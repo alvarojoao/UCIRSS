{
 "cells": [
  {
   "cell_type": "code",
   "execution_count": 25,
   "metadata": {
    "collapsed": false
   },
   "outputs": [],
   "source": [
    "library(caret)\n",
    "library(kernlab)\n",
    "\n",
    "groups <- read.csv(file=\"./MovementAAL/groups/MovementAAL_DatasetGroup.csv\",head=TRUE,sep=\",\")\n",
    "targetAll <- read.csv(file=\"./MovementAAL/dataset/MovementAAL_target.csv\",head=TRUE,sep=\",\")\n",
    "\n",
    "#Group 1\n",
    "allDataGroup1<-list()\n",
    "allDataGroup1Target<-list()\n",
    "groups1 = groups[groups$dataset_ID==1, ]\n",
    "\n",
    "index<-1\n",
    "for (id in groups1$X.sequence_ID){\n",
    "    caminho <-paste(\"./MovementAAL/dataset/MovementAAL_RSS_\",id,\".csv\",sep=\"\")\n",
    "    allDataGroup1[[index]]<-read.csv(file=caminho,head=TRUE,sep=\",\")\n",
    "    allDataGroup1Target[index]<-targetAll[[2]][id]\n",
    "    index<-index+1\n",
    "}"
   ]
  },
  {
   "cell_type": "code",
   "execution_count": 45,
   "metadata": {
    "collapsed": false
   },
   "outputs": [
    {
     "data": {
      "text/html": [
       "<table>\n",
       "<thead><tr><th></th><th scope=col>target</th><th scope=col>X.RSS_anchor11</th><th scope=col>X.RSS_anchor12</th><th scope=col>RSS_anchor21</th><th scope=col>RSS_anchor22</th><th scope=col>RSS_anchor31</th><th scope=col>RSS_anchor32</th><th scope=col>RSS_anchor41</th><th scope=col>RSS_anchor42</th></tr></thead>\n",
       "<tbody>\n",
       "\t<tr><th scope=row>1</th><td>Yes</td><td>0</td><td>-0.14286</td><td>0.04</td><td>-0.6</td><td>-0.047619</td><td>-0.28571</td><td>-0.05</td><td>-0.1</td></tr>\n",
       "\t<tr><th scope=row>2</th><td>Yes</td><td>-0.33333</td><td>-0.14286</td><td>0.04</td><td>0.04</td><td>0.095238</td><td>0.14286</td><td>-0.1</td><td>0.05</td></tr>\n",
       "\t<tr><th scope=row>3</th><td>Yes</td><td>-0.28571</td><td>-0.14286</td><td>-0.04</td><td>-0.08</td><td>-0.095238</td><td>0.14286</td><td>-0.05</td><td>0.35</td></tr>\n",
       "\t<tr><th scope=row>4</th><td>Yes</td><td>-0.42857</td><td>-0.57143</td><td>-0.2</td><td>-0.52</td><td>0</td><td>0.047619</td><td>0.4</td><td>-0.15</td></tr>\n",
       "\t<tr><th scope=row>5</th><td>Yes</td><td>-0.57143</td><td>-0.52381</td><td>-0.6</td><td>-0.44</td><td>0.57143</td><td>0.28571</td><td>0.9</td><td>0.8</td></tr>\n",
       "\t<tr><th scope=row>6</th><td>Yes</td><td>-1</td><td>-0.47619</td><td>-0.32</td><td>-0.2</td><td>0.71429</td><td>0.52381</td><td>0.65</td><td>0.95</td></tr>\n",
       "</tbody>\n",
       "</table>\n"
      ],
      "text/latex": [
       "\\begin{tabular}{r|lllllllll}\n",
       "  & target & X.RSS_anchor11 & X.RSS_anchor12 & RSS_anchor21 & RSS_anchor22 & RSS_anchor31 & RSS_anchor32 & RSS_anchor41 & RSS_anchor42\\\\\n",
       "\\hline\n",
       "\t1 & Yes & 0 & -0.14286 & 0.04 & -0.6 & -0.047619 & -0.28571 & -0.05 & -0.1\\\\\n",
       "\t2 & Yes & -0.33333 & -0.14286 & 0.04 & 0.04 & 0.095238 & 0.14286 & -0.1 & 0.05\\\\\n",
       "\t3 & Yes & -0.28571 & -0.14286 & -0.04 & -0.08 & -0.095238 & 0.14286 & -0.05 & 0.35\\\\\n",
       "\t4 & Yes & -0.42857 & -0.57143 & -0.2 & -0.52 & 0 & 0.047619 & 0.4 & -0.15\\\\\n",
       "\t5 & Yes & -0.57143 & -0.52381 & -0.6 & -0.44 & 0.57143 & 0.28571 & 0.9 & 0.8\\\\\n",
       "\t6 & Yes & -1 & -0.47619 & -0.32 & -0.2 & 0.71429 & 0.52381 & 0.65 & 0.95\\\\\n",
       "\\end{tabular}\n"
      ],
      "text/plain": [
       "  target X.RSS_anchor11 X.RSS_anchor12 RSS_anchor21 RSS_anchor22 RSS_anchor31\n",
       "1    Yes        0.00000       -0.14286         0.04        -0.60    -0.047619\n",
       "2    Yes       -0.33333       -0.14286         0.04         0.04     0.095238\n",
       "3    Yes       -0.28571       -0.14286        -0.04        -0.08    -0.095238\n",
       "4    Yes       -0.42857       -0.57143        -0.20        -0.52     0.000000\n",
       "5    Yes       -0.57143       -0.52381        -0.60        -0.44     0.571430\n",
       "6    Yes       -1.00000       -0.47619        -0.32        -0.20     0.714290\n",
       "  RSS_anchor32 RSS_anchor41 RSS_anchor42\n",
       "1    -0.285710        -0.05        -0.10\n",
       "2     0.142860        -0.10         0.05\n",
       "3     0.142860        -0.05         0.35\n",
       "4     0.047619         0.40        -0.15\n",
       "5     0.285710         0.90         0.80\n",
       "6     0.523810         0.65         0.95"
      ]
     },
     "execution_count": 45,
     "metadata": {},
     "output_type": "execute_result"
    }
   ],
   "source": [
    "wtData <- NULL\n",
    "minStepsBack = 1\n",
    "for (i in 1:length(allDataGroup1)){\n",
    "     aa<- t(unlist(allDataGroup1[[i]][(nrow(allDataGroup1[[i]])-minStepsBack):nrow(allDataGroup1[[i]]),]))\n",
    "    wtData <- rbind(wtData, aa)\n",
    "}\n",
    "wtData <- as.data.frame(wtData)\n",
    "data = unlist(allDataGroup1Target)\n",
    "target = factor(data,labels=c(\"No\",\"Yes\"))\n",
    "frameDataFinal <- data.frame(cbind(target, wtData))\n",
    "head(frameDataFinal)\n",
    "##use only lagged data"
   ]
  },
  {
   "cell_type": "code",
   "execution_count": 46,
   "metadata": {
    "collapsed": false
   },
   "outputs": [],
   "source": [
    "# set.seed(998)\n",
    "inTraining <- createDataPartition(frameDataFinal$target, p = .7, list = FALSE)\n",
    "training <- frameDataFinal[ inTraining,]\n",
    "testing  <- frameDataFinal[-inTraining,]\n",
    "fitControl <- trainControl(method = \"none\", classProbs = TRUE)"
   ]
  },
  {
   "cell_type": "code",
   "execution_count": 47,
   "metadata": {
    "collapsed": true
   },
   "outputs": [],
   "source": [
    "set.seed(825)\n",
    "svmLinearFit <- train(target ~ ., data = training,\n",
    "                 method = \"svmLinear\",\n",
    "                 trControl = fitControl,\n",
    "                 family=binomial)"
   ]
  },
  {
   "cell_type": "code",
   "execution_count": 49,
   "metadata": {
    "collapsed": false
   },
   "outputs": [
    {
     "data": {
      "text/html": [
       "<table>\n",
       "<thead><tr><th></th><th scope=col>No</th><th scope=col>Yes</th></tr></thead>\n",
       "<tbody>\n",
       "\t<tr><th scope=row>1</th><td>0.3415029</td><td>0.6584971</td></tr>\n",
       "\t<tr><th scope=row>2</th><td>0.365694</td><td>0.634306</td></tr>\n",
       "\t<tr><th scope=row>3</th><td>0.4411147</td><td>0.5588853</td></tr>\n",
       "\t<tr><th scope=row>4</th><td>0.4965527</td><td>0.5034473</td></tr>\n",
       "\t<tr><th scope=row>5</th><td>0.243286</td><td>0.756714</td></tr>\n",
       "\t<tr><th scope=row>6</th><td>0.7572288</td><td>0.2427712</td></tr>\n",
       "</tbody>\n",
       "</table>\n"
      ],
      "text/latex": [
       "\\begin{tabular}{r|ll}\n",
       "  & No & Yes\\\\\n",
       "\\hline\n",
       "\t1 & 0.3415029 & 0.6584971\\\\\n",
       "\t2 & 0.365694 & 0.634306\\\\\n",
       "\t3 & 0.4411147 & 0.5588853\\\\\n",
       "\t4 & 0.4965527 & 0.5034473\\\\\n",
       "\t5 & 0.243286 & 0.756714\\\\\n",
       "\t6 & 0.7572288 & 0.2427712\\\\\n",
       "\\end{tabular}\n"
      ],
      "text/plain": [
       "         No       Yes\n",
       "1 0.3415029 0.6584971\n",
       "2 0.3656940 0.6343060\n",
       "3 0.4411147 0.5588853\n",
       "4 0.4965527 0.5034473\n",
       "5 0.2432860 0.7567140\n",
       "6 0.7572288 0.2427712"
      ]
     },
     "execution_count": 49,
     "metadata": {},
     "output_type": "execute_result"
    },
    {
     "data": {
      "text/html": [
       "30"
      ],
      "text/latex": [
       "30"
      ],
      "text/markdown": [
       "30"
      ],
      "text/plain": [
       "[1] 30"
      ]
     },
     "execution_count": 49,
     "metadata": {},
     "output_type": "execute_result"
    },
    {
     "data": {
      "text/plain": [
       "     \n",
       "preds No Yes\n",
       "  No  12   4\n",
       "  Yes  3  11"
      ]
     },
     "execution_count": 49,
     "metadata": {},
     "output_type": "execute_result"
    }
   ],
   "source": [
    "preds<- predict(svmLinearFit, newdata = testing, type = \"prob\")\n",
    "head(preds)\n",
    "preds<- predict(svmLinearFit, newdata = testing)\n",
    "length(preds)\n",
    "# predict(gbmFit4, newdata = testing, type = \"prob\")\n",
    "table(preds,testing$target)\n"
   ]
  },
  {
   "cell_type": "code",
   "execution_count": null,
   "metadata": {
    "collapsed": true
   },
   "outputs": [],
   "source": []
  }
 ],
 "metadata": {
  "kernelspec": {
   "display_name": "R",
   "language": "R",
   "name": "ir"
  },
  "language_info": {
   "codemirror_mode": "r",
   "file_extension": ".r",
   "mimetype": "text/x-r-source",
   "name": "R",
   "pygments_lexer": "r",
   "version": "3.2.5"
  }
 },
 "nbformat": 4,
 "nbformat_minor": 0
}
