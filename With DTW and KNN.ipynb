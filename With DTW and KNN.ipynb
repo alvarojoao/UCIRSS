{
 "cells": [
  {
   "cell_type": "markdown",
   "metadata": {},
   "source": [
    "Nesse arquivo foi usada a seguinte estratégia:\n",
    "Utilizei um recurso chamado [DTW](dtw.r-forge.r-project.org) onde se calcula a dissimilaridades entre séries.\n",
    "Nesse caso entre cada movimento ou path realizado pelo usuario podemos contabilizar o quão similar eles são entre eles.\n",
    "Dessa forma podemos calcular uma `distancia` e assim realizar procedimentos como clusterizações e até classificações. Nesse caso utilizei um simples KNN para realizar a classificação binária.\n",
    "\n",
    "Importante dizer que esse método (DTW) é robusto para séries com múltiplas variaveis (multivariate)."
   ]
  },
  {
   "cell_type": "code",
   "execution_count": 150,
   "metadata": {
    "collapsed": false
   },
   "outputs": [],
   "source": [
    "library(dtw)\n",
    "library(KODAMA)\n",
    "library(caret)\n",
    "library(pROC)\n",
    "\n",
    "groups <- read.csv(file=\"./MovementAAL/groups/MovementAAL_DatasetGroup.csv\",head=TRUE,sep=\",\")\n",
    "targetAll <- read.csv(file=\"./MovementAAL/dataset/MovementAAL_target.csv\",head=TRUE,sep=\",\")\n",
    "\n",
    "#Group 1\n",
    "allDataGroup1<-list()\n",
    "allDataGroup1Target<-list()\n",
    "groups1 = groups[groups$dataset_ID==1, ]\n",
    "\n",
    "index<-1\n",
    "for (id in groups1$X.sequence_ID){\n",
    "    caminho <-paste(\"./MovementAAL/dataset/MovementAAL_RSS_\",id,\".csv\",sep=\"\")\n",
    "    allDataGroup1[[index]]<-read.csv(file=caminho,head=TRUE,sep=\",\")\n",
    "    allDataGroup1Target[index]<-targetAll[[2]][id]\n",
    "    index<-index+1\n",
    "}\n",
    "\n",
    "kdist <- dist(allDataGroup1, method=\"DTW\",diag = TRUE,upper = TRUE)\n",
    "kdistM<- as.matrix(kdist)"
   ]
  },
  {
   "cell_type": "code",
   "execution_count": 151,
   "metadata": {
    "collapsed": false
   },
   "outputs": [],
   "source": [
    "target <- unlist(allDataGroup1Target)\n",
    "allDataGroup1TargetFrame = as.data.frame(target)\n",
    "train <- createDataPartition(allDataGroup1TargetFrame$target, p = .7, list = TRUE,times=10)\n",
    "y <- allDataGroup1TargetFrame$target\n"
   ]
  },
  {
   "cell_type": "markdown",
   "metadata": {},
   "source": [
    "#### Média e Desvio padrão respectivamente.\n",
    "##### Group 1, com Cross Validation tipo 10-fold"
   ]
  },
  {
   "cell_type": "code",
   "execution_count": 152,
   "metadata": {
    "collapsed": false
   },
   "outputs": [
    {
     "data": {
      "text/html": [
       "0.95"
      ],
      "text/latex": [
       "0.95"
      ],
      "text/markdown": [
       "0.95"
      ],
      "text/plain": [
       "[1] 0.95"
      ]
     },
     "execution_count": 152,
     "metadata": {},
     "output_type": "execute_result"
    },
    {
     "data": {
      "text/html": [
       "0.0423098505881328"
      ],
      "text/latex": [
       "0.0423098505881328"
      ],
      "text/markdown": [
       "0.0423098505881328"
      ],
      "text/plain": [
       "[1] 0.04230985"
      ]
     },
     "execution_count": 152,
     "metadata": {},
     "output_type": "execute_result"
    }
   ],
   "source": [
    "allAccuracyGroup1 <- c()\n",
    "\n",
    "for( i in 1:length(train)){\n",
    "    test  <- (1:nrow(allDataGroup1TargetFrame))[-train[[i]]]\n",
    "    preds <- knn.predict(train[[i]], test,y, kdistM, k=3,agg.meth=\"majority\") \n",
    "    matrix <- confusionMatrix(preds, y[test])\n",
    "    #accuracy\n",
    "    allAccuracyGroup1 <- c(allAccuracyGroup1,matrix[3]$overall[[1]])\n",
    "}\n",
    "mean(allAccuracyGroup1)\n",
    "sd(allAccuracyGroup1)"
   ]
  },
  {
   "cell_type": "code",
   "execution_count": 153,
   "metadata": {
    "collapsed": true
   },
   "outputs": [],
   "source": [
    "#Group 2\n",
    "\n",
    "\n",
    "allDataGroup2<-list()\n",
    "groups2 = groups[groups$dataset_ID==2, ]\n",
    "allDataGroup2Target<-list()\n",
    "index<-1\n",
    "for (id in groups2$X.sequence_ID){\n",
    "    caminho <-paste(\"./MovementAAL/dataset/MovementAAL_RSS_\",id,\".csv\",sep=\"\")\n",
    "    allDataGroup2[[index]]<-read.csv(file=caminho,head=TRUE,sep=\",\")\n",
    "    allDataGroup2Target[index]<-targetAll[[2]][id]\n",
    "    index<-index+1\n",
    "}\n",
    "\n",
    "\n",
    "kdist <- dist(allDataGroup2, method=\"DTW\",diag = TRUE,upper = TRUE)\n",
    "kdistM<- as.matrix(kdist)"
   ]
  },
  {
   "cell_type": "code",
   "execution_count": 154,
   "metadata": {
    "collapsed": false
   },
   "outputs": [],
   "source": [
    "target <- unlist(allDataGroup2Target)\n",
    "allDataGroup2TargetFrame = as.data.frame(target)\n",
    "train <- createDataPartition(allDataGroup2TargetFrame$target, p = .7, list = TRUE,times=10)\n",
    "y <- allDataGroup2TargetFrame$target"
   ]
  },
  {
   "cell_type": "markdown",
   "metadata": {},
   "source": [
    "#### Média e Desvio padrão respectivamente.\n",
    "##### Group 2, com Cross Validation tipo 10-fold"
   ]
  },
  {
   "cell_type": "code",
   "execution_count": 155,
   "metadata": {
    "collapsed": false
   },
   "outputs": [
    {
     "data": {
      "text/html": [
       "0.92258064516129"
      ],
      "text/latex": [
       "0.92258064516129"
      ],
      "text/markdown": [
       "0.92258064516129"
      ],
      "text/plain": [
       "[1] 0.9225806"
      ]
     },
     "execution_count": 155,
     "metadata": {},
     "output_type": "execute_result"
    },
    {
     "data": {
      "text/html": [
       "0.0435450682393905"
      ],
      "text/latex": [
       "0.0435450682393905"
      ],
      "text/markdown": [
       "0.0435450682393905"
      ],
      "text/plain": [
       "[1] 0.04354507"
      ]
     },
     "execution_count": 155,
     "metadata": {},
     "output_type": "execute_result"
    }
   ],
   "source": [
    "allAccuracyGroup2 <- c()\n",
    "\n",
    "for( i in 1:length(train)){\n",
    "    test  <- (1:nrow(allDataGroup2TargetFrame))[-train[[i]]]\n",
    "    preds <- knn.predict(train[[i]], test,y, kdistM, k=3,agg.meth=\"majority\") \n",
    "    matrix <- confusionMatrix(preds, y[test])\n",
    "    #accuracy\n",
    "    allAccuracyGroup2 <- c(allAccuracyGroup2,matrix[3]$overall[[1]])\n",
    "}\n",
    "\n",
    "mean(allAccuracyGroup2)\n",
    "sd(allAccuracyGroup2)"
   ]
  },
  {
   "cell_type": "code",
   "execution_count": 156,
   "metadata": {
    "collapsed": false
   },
   "outputs": [],
   "source": [
    "#Group 3\n",
    "\n",
    "\n",
    "allDataGroup3<-list()\n",
    "groups3 = groups[groups$dataset_ID==3, ]\n",
    "allDataGroup3Target<-list()\n",
    "index<-1\n",
    "for (id in groups3$X.sequence_ID){\n",
    "    caminho <-paste(\"./MovementAAL/dataset/MovementAAL_RSS_\",id,\".csv\",sep=\"\")\n",
    "    allDataGroup3[[index]]<-read.csv(file=caminho,head=TRUE,sep=\",\")\n",
    "    allDataGroup3Target[index]<-targetAll[[2]][id]\n",
    "    index<-index+1\n",
    "}\n",
    "\n",
    "\n",
    "kdist <- dist(allDataGroup3, method=\"DTW\",diag = TRUE,upper = TRUE)\n",
    "kdistM<- as.matrix(kdist)"
   ]
  },
  {
   "cell_type": "code",
   "execution_count": 157,
   "metadata": {
    "collapsed": true
   },
   "outputs": [],
   "source": [
    "target <- unlist(allDataGroup3Target)\n",
    "allDataGroup3TargetFrame = as.data.frame(target)\n",
    "train <- createDataPartition(allDataGroup3TargetFrame$target, p = .7, list = TRUE,times=10)\n",
    "y <- allDataGroup3TargetFrame$target"
   ]
  },
  {
   "cell_type": "markdown",
   "metadata": {},
   "source": [
    "#### Média e Desvio padrão respectivamente.\n",
    "##### Group 3, com Cross Validation tipo 10-fold"
   ]
  },
  {
   "cell_type": "code",
   "execution_count": 158,
   "metadata": {
    "collapsed": false
   },
   "outputs": [
    {
     "data": {
      "text/html": [
       "0.861290322580645"
      ],
      "text/latex": [
       "0.861290322580645"
      ],
      "text/markdown": [
       "0.861290322580645"
      ],
      "text/plain": [
       "[1] 0.8612903"
      ]
     },
     "execution_count": 158,
     "metadata": {},
     "output_type": "execute_result"
    },
    {
     "data": {
      "text/html": [
       "0.0887341119818398"
      ],
      "text/latex": [
       "0.0887341119818398"
      ],
      "text/markdown": [
       "0.0887341119818398"
      ],
      "text/plain": [
       "[1] 0.08873411"
      ]
     },
     "execution_count": 158,
     "metadata": {},
     "output_type": "execute_result"
    }
   ],
   "source": [
    "allAccuracyGroup3 <- c()\n",
    "\n",
    "for( i in 1:length(train)){\n",
    "    test  <- (1:nrow(allDataGroup3TargetFrame))[-train[[i]]]\n",
    "    preds <- knn.predict(train[[i]], test,y, kdistM, k=3,agg.meth=\"majority\") \n",
    "    matrix <- confusionMatrix(preds, y[test])\n",
    "    #accuracy\n",
    "    allAccuracyGroup3 <- c(allAccuracyGroup3,matrix[3]$overall[[1]])\n",
    "}\n",
    "\n",
    "mean(allAccuracyGroup3)\n",
    "sd(allAccuracyGroup3)"
   ]
  },
  {
   "cell_type": "code",
   "execution_count": 159,
   "metadata": {
    "collapsed": false
   },
   "outputs": [],
   "source": [
    "#All DataBases\n",
    "\n",
    "targetAll <- read.csv(file=\"./MovementAAL/dataset/MovementAAL_target.csv\",head=TRUE,sep=\",\")\n",
    "allData<-list()\n",
    "allDataTarget<-list()\n",
    "index<-1\n",
    "for (id in targetAll$X.sequence_ID){\n",
    "    caminho <-paste(\"./MovementAAL/dataset/MovementAAL_RSS_\",id,\".csv\",sep=\"\")\n",
    "    allData[[index]]<-read.csv(file=caminho,head=TRUE,sep=\",\")\n",
    "    allDataTarget[index]<-targetAll[[2]][id]\n",
    "    index<-index+1\n",
    "}\n",
    "\n",
    "kdist <- dist(allData, method=\"DTW\",diag = TRUE,upper = TRUE)\n",
    "kdistM<- as.matrix(kdist)"
   ]
  },
  {
   "cell_type": "code",
   "execution_count": 160,
   "metadata": {
    "collapsed": true
   },
   "outputs": [],
   "source": [
    "target <- unlist(allDataTarget)\n",
    "allDataTargetFrame = as.data.frame(target)\n",
    "train <- createDataPartition(allDataTargetFrame$target, p = .7, list = TRUE,times=10)\n",
    "y <- allDataTargetFrame$target"
   ]
  },
  {
   "cell_type": "markdown",
   "metadata": {},
   "source": [
    "#### Média e Desvio padrão respectivamente.\n",
    "##### Todos os Groups em uma base apenas, com Cross Validation tipo 10-fold"
   ]
  },
  {
   "cell_type": "code",
   "execution_count": 161,
   "metadata": {
    "collapsed": false
   },
   "outputs": [
    {
     "data": {
      "text/html": [
       "0.864229113371186"
      ],
      "text/latex": [
       "0.864229113371186"
      ],
      "text/markdown": [
       "0.864229113371186"
      ],
      "text/plain": [
       "[1] 0.8642291"
      ]
     },
     "execution_count": 161,
     "metadata": {},
     "output_type": "execute_result"
    },
    {
     "data": {
      "text/html": [
       "0.0847429629568224"
      ],
      "text/latex": [
       "0.0847429629568224"
      ],
      "text/markdown": [
       "0.0847429629568224"
      ],
      "text/plain": [
       "[1] 0.08474296"
      ]
     },
     "execution_count": 161,
     "metadata": {},
     "output_type": "execute_result"
    }
   ],
   "source": [
    "allAccuracy <- c()\n",
    "\n",
    "for( i in 1:length(train)){\n",
    "    test  <- (1:nrow(allDataTargetFrame))[-train[[i]]]\n",
    "    preds <- knn.predict(train[[i]], test,y, kdistM, k=3,agg.meth=\"majority\") \n",
    "    matrix <- confusionMatrix(preds, y[test])\n",
    "    #accuracy\n",
    "    allAccuracy <- c(allAccuracyGroup3,matrix[3]$overall[[1]])\n",
    "}\n",
    "\n",
    "mean(allAccuracy)\n",
    "sd(allAccuracy)"
   ]
  },
  {
   "cell_type": "markdown",
   "metadata": {},
   "source": [
    "#### Matrix de confusão\n",
    "#### Todos os Groups em uma base apenas"
   ]
  },
  {
   "cell_type": "code",
   "execution_count": 238,
   "metadata": {
    "collapsed": false
   },
   "outputs": [
    {
     "data": {
      "text/plain": [
       "Confusion Matrix and Statistics\n",
       "\n",
       "          Reference\n",
       "Prediction -1  1\n",
       "        -1 41  8\n",
       "        1   3 42\n",
       "                                          \n",
       "               Accuracy : 0.883           \n",
       "                 95% CI : (0.8003, 0.9401)\n",
       "    No Information Rate : 0.5319          \n",
       "    P-Value [Acc > NIR] : 3.359e-13       \n",
       "                                          \n",
       "                  Kappa : 0.7666          \n",
       " Mcnemar's Test P-Value : 0.2278          \n",
       "                                          \n",
       "            Sensitivity : 0.9318          \n",
       "            Specificity : 0.8400          \n",
       "         Pos Pred Value : 0.8367          \n",
       "         Neg Pred Value : 0.9333          \n",
       "             Prevalence : 0.4681          \n",
       "         Detection Rate : 0.4362          \n",
       "   Detection Prevalence : 0.5213          \n",
       "      Balanced Accuracy : 0.8859          \n",
       "                                          \n",
       "       'Positive' Class : -1              \n",
       "                                          "
      ]
     },
     "execution_count": 238,
     "metadata": {},
     "output_type": "execute_result"
    }
   ],
   "source": [
    "#All groups datasets Confusion Matrix \n",
    "target <- unlist(allDataTarget)\n",
    "allDataTargetFrame = as.data.frame(target)\n",
    "train <- createDataPartition(allDataTargetFrame$target, p = .7, list = TRUE,times=1)\n",
    "y <- allDataTargetFrame$target\n",
    "test  <- (1:nrow(allDataTargetFrame))[-train[[1]]]\n",
    "preds <- knn.predict(train[[1]], test,y, kdistM, k=5,agg.meth=\"majority\") \n",
    "matrix <- confusionMatrix(preds, y[test])\n",
    "matrix\n"
   ]
  },
  {
   "cell_type": "markdown",
   "metadata": {},
   "source": [
    "#### Curva ROC e AUC\n",
    "#### Todos os Groups em uma base apenas"
   ]
  },
  {
   "cell_type": "code",
   "execution_count": 240,
   "metadata": {
    "collapsed": false
   },
   "outputs": [
    {
     "data": {
      "text/plain": [
       "\n",
       "Call:\n",
       "roc.default(response = classes, predictor = outcome, levels = c(\"No\",     \"Yes\"))\n",
       "\n",
       "Data: outcome in 44 controls (classes No) > 50 cases (classes Yes).\n",
       "Area under the curve: 0.9259"
      ]
     },
     "execution_count": 240,
     "metadata": {},
     "output_type": "execute_result"
    },
    {
     "data": {
      "image/png": "[encoded data removed]",
      "image/svg+xml": [
       "<?xml version=\"1.0\" encoding=\"UTF-8\"?>\n",
       "<svg xmlns=\"http://www.w3.org/2000/svg\" xmlns:xlink=\"http://www.w3.org/1999/xlink\" width=\"504pt\" height=\"504pt\" viewBox=\"0 0 504 504\" version=\"1.1\">\n",
       "<defs>\n",
       "<g>\n",
       "<symbol overflow=\"visible\" id=\"glyph0-0\">\n",
       "<path style=\"stroke:none;\" d=\"M 0.539063 -2.757813 L 1.609375 -2.851563 C 1.660156 -2.421875 1.777344 -2.070313 1.964844 -1.796875 C 2.144531 -1.519531 2.433594 -1.296875 2.828125 -1.128906 C 3.214844 -0.957031 3.65625 -0.871094 4.148438 -0.875 C 4.578125 -0.871094 4.960938 -0.9375 5.296875 -1.066406 C 5.628906 -1.191406 5.875 -1.367188 6.039063 -1.59375 C 6.199219 -1.820313 6.28125 -2.066406 6.28125 -2.332031 C 6.28125 -2.597656 6.203125 -2.832031 6.046875 -3.035156 C 5.890625 -3.238281 5.632813 -3.40625 5.273438 -3.546875 C 5.042969 -3.632813 4.53125 -3.773438 3.746094 -3.964844 C 2.953125 -4.152344 2.402344 -4.332031 2.085938 -4.5 C 1.671875 -4.710938 1.363281 -4.976563 1.167969 -5.296875 C 0.964844 -5.617188 0.867188 -5.972656 0.867188 -6.367188 C 0.867188 -6.800781 0.988281 -7.207031 1.234375 -7.582031 C 1.480469 -7.957031 1.839844 -8.242188 2.3125 -8.441406 C 2.785156 -8.632813 3.3125 -8.730469 3.890625 -8.734375 C 4.523438 -8.730469 5.082031 -8.628906 5.574219 -8.425781 C 6.058594 -8.222656 6.433594 -7.921875 6.695313 -7.523438 C 6.957031 -7.125 7.097656 -6.671875 7.117188 -6.171875 L 6.03125 -6.085938 C 5.96875 -6.628906 5.769531 -7.039063 5.433594 -7.316406 C 5.09375 -7.59375 4.597656 -7.734375 3.9375 -7.734375 C 3.25 -7.734375 2.746094 -7.605469 2.433594 -7.355469 C 2.113281 -7.097656 1.957031 -6.796875 1.960938 -6.445313 C 1.957031 -6.136719 2.070313 -5.882813 2.296875 -5.683594 C 2.515625 -5.480469 3.085938 -5.273438 4.011719 -5.070313 C 4.933594 -4.859375 5.566406 -4.679688 5.914063 -4.523438 C 6.410156 -4.292969 6.78125 -4 7.019531 -3.648438 C 7.253906 -3.292969 7.371094 -2.886719 7.375 -2.425781 C 7.371094 -1.96875 7.242188 -1.535156 6.984375 -1.132813 C 6.722656 -0.726563 6.34375 -0.414063 5.855469 -0.1875 C 5.363281 0.0351563 4.8125 0.144531 4.203125 0.148438 C 3.421875 0.144531 2.769531 0.0351563 2.246094 -0.191406 C 1.71875 -0.414063 1.308594 -0.753906 1.011719 -1.214844 C 0.710938 -1.667969 0.554688 -2.183594 0.539063 -2.757813 Z M 0.539063 -2.757813 \"/>\n",
       "</symbol>\n",
       "<symbol overflow=\"visible\" id=\"glyph0-1\">\n",
       "<path style=\"stroke:none;\" d=\"M 0.789063 2.382813 L 0.789063 -6.222656 L 1.75 -6.222656 L 1.75 -5.414063 C 1.976563 -5.730469 2.234375 -5.964844 2.519531 -6.125 C 2.800781 -6.28125 3.144531 -6.363281 3.554688 -6.363281 C 4.082031 -6.363281 4.550781 -6.226563 4.960938 -5.953125 C 5.363281 -5.679688 5.671875 -5.292969 5.882813 -4.792969 C 6.089844 -4.292969 6.191406 -3.746094 6.195313 -3.15625 C 6.191406 -2.519531 6.078125 -1.945313 5.851563 -1.4375 C 5.621094 -0.921875 5.289063 -0.53125 4.855469 -0.265625 C 4.417969 0.0078125 3.960938 0.140625 3.480469 0.140625 C 3.128906 0.140625 2.8125 0.0664063 2.535156 -0.0820313 C 2.253906 -0.230469 2.023438 -0.417969 1.84375 -0.644531 L 1.84375 2.382813 Z M 1.746094 -3.078125 C 1.746094 -2.273438 1.90625 -1.683594 2.230469 -1.300781 C 2.554688 -0.917969 2.949219 -0.726563 3.410156 -0.726563 C 3.878906 -0.726563 4.277344 -0.921875 4.613281 -1.320313 C 4.945313 -1.710938 5.113281 -2.328125 5.117188 -3.164063 C 5.113281 -3.953125 4.949219 -4.546875 4.625 -4.945313 C 4.296875 -5.339844 3.910156 -5.535156 3.457031 -5.539063 C 3.003906 -5.535156 2.605469 -5.324219 2.261719 -4.90625 C 1.917969 -4.484375 1.746094 -3.875 1.746094 -3.078125 Z M 1.746094 -3.078125 \"/>\n",
       "</symbol>\n",
       "<symbol overflow=\"visible\" id=\"glyph0-2\">\n",
       "<path style=\"stroke:none;\" d=\"M 5.050781 -2.003906 L 6.140625 -1.867188 C 5.96875 -1.230469 5.648438 -0.738281 5.183594 -0.386719 C 4.71875 -0.0351563 4.125 0.140625 3.40625 0.140625 C 2.492188 0.140625 1.769531 -0.136719 1.238281 -0.699219 C 0.699219 -1.253906 0.433594 -2.042969 0.4375 -3.058594 C 0.433594 -4.105469 0.703125 -4.917969 1.246094 -5.496094 C 1.78125 -6.074219 2.480469 -6.363281 3.34375 -6.363281 C 4.175781 -6.363281 4.855469 -6.078125 5.382813 -5.511719 C 5.910156 -4.945313 6.175781 -4.148438 6.175781 -3.125 C 6.175781 -3.058594 6.171875 -2.964844 6.171875 -2.84375 L 1.53125 -2.84375 C 1.5625 -2.15625 1.757813 -1.632813 2.109375 -1.269531 C 2.457031 -0.90625 2.890625 -0.726563 3.410156 -0.726563 C 3.796875 -0.726563 4.125 -0.828125 4.402344 -1.03125 C 4.671875 -1.234375 4.890625 -1.558594 5.050781 -2.003906 Z M 1.585938 -3.710938 L 5.0625 -3.710938 C 5.015625 -4.226563 4.882813 -4.621094 4.664063 -4.886719 C 4.328125 -5.292969 3.890625 -5.496094 3.359375 -5.496094 C 2.871094 -5.496094 2.464844 -5.332031 2.136719 -5.007813 C 1.804688 -4.683594 1.621094 -4.25 1.585938 -3.710938 Z M 1.585938 -3.710938 \"/>\n",
       "</symbol>\n",
       "<symbol overflow=\"visible\" id=\"glyph0-3\">\n",
       "<path style=\"stroke:none;\" d=\"M 4.851563 -2.28125 L 5.890625 -2.144531 C 5.773438 -1.425781 5.484375 -0.863281 5.019531 -0.464844 C 4.550781 -0.0585938 3.976563 0.140625 3.296875 0.140625 C 2.445313 0.140625 1.761719 -0.136719 1.246094 -0.695313 C 0.726563 -1.25 0.46875 -2.046875 0.46875 -3.085938 C 0.46875 -3.753906 0.578125 -4.34375 0.800781 -4.851563 C 1.023438 -5.355469 1.363281 -5.730469 1.816406 -5.984375 C 2.269531 -6.234375 2.765625 -6.363281 3.304688 -6.363281 C 3.980469 -6.363281 4.53125 -6.191406 4.964844 -5.847656 C 5.390625 -5.503906 5.667969 -5.019531 5.789063 -4.394531 L 4.765625 -4.234375 C 4.664063 -4.652344 4.492188 -4.96875 4.246094 -5.179688 C 3.996094 -5.390625 3.695313 -5.496094 3.34375 -5.496094 C 2.808594 -5.496094 2.378906 -5.304688 2.050781 -4.921875 C 1.71875 -4.539063 1.550781 -3.9375 1.554688 -3.117188 C 1.550781 -2.28125 1.710938 -1.671875 2.035156 -1.292969 C 2.351563 -0.914063 2.769531 -0.726563 3.289063 -0.726563 C 3.695313 -0.726563 4.042969 -0.851563 4.324219 -1.105469 C 4.601563 -1.359375 4.777344 -1.75 4.851563 -2.28125 Z M 4.851563 -2.28125 \"/>\n",
       "</symbol>\n",
       "<symbol overflow=\"visible\" id=\"glyph0-4\">\n",
       "<path style=\"stroke:none;\" d=\"M 0.796875 -7.375 L 0.796875 -8.589844 L 1.851563 -8.589844 L 1.851563 -7.375 Z M 0.796875 0 L 0.796875 -6.222656 L 1.851563 -6.222656 L 1.851563 0 Z M 0.796875 0 \"/>\n",
       "</symbol>\n",
       "<symbol overflow=\"visible\" id=\"glyph0-5\">\n",
       "<path style=\"stroke:none;\" d=\"M 1.042969 0 L 1.042969 -5.402344 L 0.109375 -5.402344 L 0.109375 -6.222656 L 1.042969 -6.222656 L 1.042969 -6.882813 C 1.042969 -7.300781 1.078125 -7.613281 1.15625 -7.816406 C 1.25 -8.089844 1.429688 -8.308594 1.6875 -8.480469 C 1.945313 -8.644531 2.304688 -8.730469 2.765625 -8.734375 C 3.0625 -8.730469 3.390625 -8.695313 3.75 -8.632813 L 3.59375 -7.710938 C 3.371094 -7.75 3.164063 -7.769531 2.96875 -7.769531 C 2.648438 -7.769531 2.421875 -7.699219 2.292969 -7.5625 C 2.15625 -7.425781 2.089844 -7.171875 2.09375 -6.796875 L 2.09375 -6.222656 L 3.304688 -6.222656 L 3.304688 -5.402344 L 2.09375 -5.402344 L 2.09375 0 Z M 1.042969 0 \"/>\n",
       "</symbol>\n",
       "<symbol overflow=\"visible\" id=\"glyph0-6\">\n",
       "<path style=\"stroke:none;\" d=\"M 3.09375 -0.945313 L 3.246094 -0.0117188 C 2.949219 0.0507813 2.683594 0.0820313 2.449219 0.0820313 C 2.066406 0.0820313 1.769531 0.0234375 1.558594 -0.0976563 C 1.347656 -0.21875 1.199219 -0.378906 1.113281 -0.578125 C 1.027344 -0.773438 0.984375 -1.1875 0.984375 -1.820313 L 0.984375 -5.402344 L 0.210938 -5.402344 L 0.210938 -6.222656 L 0.984375 -6.222656 L 0.984375 -7.765625 L 2.03125 -8.398438 L 2.03125 -6.222656 L 3.09375 -6.222656 L 3.09375 -5.402344 L 2.03125 -5.402344 L 2.03125 -1.765625 C 2.027344 -1.460938 2.046875 -1.269531 2.085938 -1.183594 C 2.125 -1.097656 2.183594 -1.027344 2.269531 -0.976563 C 2.351563 -0.925781 2.472656 -0.902344 2.632813 -0.902344 C 2.742188 -0.902344 2.898438 -0.914063 3.09375 -0.945313 Z M 3.09375 -0.945313 \"/>\n",
       "</symbol>\n",
       "<symbol overflow=\"visible\" id=\"glyph0-7\">\n",
       "<path style=\"stroke:none;\" d=\"M 0.742188 2.398438 L 0.625 1.40625 C 0.855469 1.46875 1.058594 1.5 1.230469 1.5 C 1.464844 1.5 1.652344 1.460938 1.792969 1.382813 C 1.933594 1.304688 2.046875 1.195313 2.140625 1.054688 C 2.203125 0.949219 2.3125 0.6875 2.460938 0.269531 C 2.480469 0.207031 2.511719 0.121094 2.554688 0.0117188 L 0.195313 -6.222656 L 1.328125 -6.222656 L 2.625 -2.617188 C 2.789063 -2.160156 2.9375 -1.679688 3.078125 -1.179688 C 3.195313 -1.660156 3.339844 -2.132813 3.507813 -2.59375 L 4.839844 -6.222656 L 5.894531 -6.222656 L 3.527344 0.105469 C 3.273438 0.789063 3.074219 1.257813 2.9375 1.515625 C 2.746094 1.863281 2.53125 2.117188 2.292969 2.28125 C 2.046875 2.4375 1.757813 2.519531 1.421875 2.523438 C 1.214844 2.519531 0.988281 2.476563 0.742188 2.398438 Z M 0.742188 2.398438 \"/>\n",
       "</symbol>\n",
       "<symbol overflow=\"visible\" id=\"glyph0-8\">\n",
       "<path style=\"stroke:none;\" d=\"M 4.46875 0 L 3.414063 0 L 3.414063 -6.71875 C 3.160156 -6.476563 2.828125 -6.234375 2.414063 -5.996094 C 2 -5.75 1.628906 -5.570313 1.304688 -5.449219 L 1.304688 -6.46875 C 1.894531 -6.742188 2.410156 -7.078125 2.851563 -7.476563 C 3.292969 -7.871094 3.605469 -8.253906 3.789063 -8.625 L 4.46875 -8.625 Z M 4.46875 0 \"/>\n",
       "</symbol>\n",
       "<symbol overflow=\"visible\" id=\"glyph0-9\">\n",
       "<path style=\"stroke:none;\" d=\"M 1.089844 0 L 1.089844 -1.203125 L 2.289063 -1.203125 L 2.289063 0 Z M 1.089844 0 \"/>\n",
       "</symbol>\n",
       "<symbol overflow=\"visible\" id=\"glyph0-10\">\n",
       "<path style=\"stroke:none;\" d=\"M 0.5 -4.234375 C 0.496094 -5.246094 0.601563 -6.0625 0.8125 -6.6875 C 1.019531 -7.304688 1.328125 -7.785156 1.742188 -8.121094 C 2.148438 -8.457031 2.667969 -8.625 3.296875 -8.625 C 3.757813 -8.625 4.164063 -8.53125 4.511719 -8.347656 C 4.855469 -8.160156 5.140625 -7.890625 5.371094 -7.542969 C 5.59375 -7.191406 5.773438 -6.765625 5.90625 -6.265625 C 6.035156 -5.761719 6.097656 -5.085938 6.101563 -4.234375 C 6.097656 -3.226563 5.996094 -2.414063 5.789063 -1.796875 C 5.578125 -1.175781 5.265625 -0.695313 4.859375 -0.359375 C 4.445313 -0.0195313 3.925781 0.144531 3.296875 0.148438 C 2.464844 0.144531 1.816406 -0.148438 1.347656 -0.742188 C 0.78125 -1.457031 0.496094 -2.621094 0.5 -4.234375 Z M 1.582031 -4.234375 C 1.582031 -2.824219 1.746094 -1.886719 2.074219 -1.417969 C 2.402344 -0.949219 2.808594 -0.714844 3.296875 -0.71875 C 3.777344 -0.714844 4.183594 -0.949219 4.519531 -1.421875 C 4.847656 -1.886719 5.015625 -2.824219 5.015625 -4.234375 C 5.015625 -5.648438 4.847656 -6.589844 4.519531 -7.054688 C 4.183594 -7.515625 3.773438 -7.746094 3.289063 -7.75 C 2.800781 -7.746094 2.414063 -7.542969 2.125 -7.136719 C 1.761719 -6.613281 1.582031 -5.644531 1.582031 -4.234375 Z M 1.582031 -4.234375 \"/>\n",
       "</symbol>\n",
       "<symbol overflow=\"visible\" id=\"glyph0-11\">\n",
       "<path style=\"stroke:none;\" d=\"M 2.121094 -4.65625 C 1.683594 -4.816406 1.359375 -5.046875 1.148438 -5.34375 C 0.9375 -5.640625 0.832031 -5.996094 0.832031 -6.410156 C 0.832031 -7.035156 1.054688 -7.558594 1.503906 -7.984375 C 1.953125 -8.410156 2.550781 -8.625 3.296875 -8.625 C 4.042969 -8.625 4.648438 -8.40625 5.109375 -7.972656 C 5.566406 -7.535156 5.792969 -7.003906 5.796875 -6.382813 C 5.792969 -5.976563 5.6875 -5.628906 5.480469 -5.339844 C 5.269531 -5.042969 4.953125 -4.816406 4.53125 -4.65625 C 5.054688 -4.480469 5.457031 -4.203125 5.734375 -3.824219 C 6.007813 -3.4375 6.144531 -2.980469 6.148438 -2.453125 C 6.144531 -1.714844 5.886719 -1.097656 5.367188 -0.601563 C 4.84375 -0.101563 4.160156 0.144531 3.316406 0.148438 C 2.46875 0.144531 1.785156 -0.101563 1.265625 -0.605469 C 0.742188 -1.105469 0.480469 -1.734375 0.484375 -2.484375 C 0.480469 -3.039063 0.621094 -3.503906 0.910156 -3.886719 C 1.191406 -4.261719 1.597656 -4.519531 2.121094 -4.65625 Z M 1.910156 -6.445313 C 1.910156 -6.039063 2.039063 -5.707031 2.300781 -5.449219 C 2.5625 -5.191406 2.902344 -5.0625 3.320313 -5.0625 C 3.722656 -5.0625 4.054688 -5.1875 4.320313 -5.445313 C 4.578125 -5.695313 4.710938 -6.011719 4.710938 -6.386719 C 4.710938 -6.773438 4.574219 -7.097656 4.308594 -7.363281 C 4.035156 -7.625 3.703125 -7.757813 3.3125 -7.757813 C 2.90625 -7.757813 2.574219 -7.628906 2.308594 -7.371094 C 2.042969 -7.113281 1.910156 -6.804688 1.910156 -6.445313 Z M 1.570313 -2.476563 C 1.570313 -2.175781 1.640625 -1.886719 1.785156 -1.605469 C 1.925781 -1.324219 2.136719 -1.105469 2.421875 -0.949219 C 2.699219 -0.792969 3.003906 -0.714844 3.328125 -0.71875 C 3.832031 -0.714844 4.246094 -0.878906 4.578125 -1.207031 C 4.902344 -1.53125 5.066406 -1.941406 5.070313 -2.445313 C 5.066406 -2.945313 4.898438 -3.367188 4.5625 -3.703125 C 4.222656 -4.035156 3.800781 -4.199219 3.292969 -4.203125 C 2.792969 -4.199219 2.378906 -4.035156 2.058594 -3.710938 C 1.730469 -3.378906 1.570313 -2.96875 1.570313 -2.476563 Z M 1.570313 -2.476563 \"/>\n",
       "</symbol>\n",
       "<symbol overflow=\"visible\" id=\"glyph0-12\">\n",
       "<path style=\"stroke:none;\" d=\"M 5.96875 -6.484375 L 4.921875 -6.40625 C 4.828125 -6.8125 4.695313 -7.113281 4.523438 -7.304688 C 4.234375 -7.605469 3.882813 -7.757813 3.46875 -7.757813 C 3.132813 -7.757813 2.835938 -7.664063 2.585938 -7.476563 C 2.25 -7.234375 1.988281 -6.878906 1.796875 -6.414063 C 1.605469 -5.949219 1.507813 -5.289063 1.5 -4.429688 C 1.753906 -4.8125 2.0625 -5.097656 2.433594 -5.289063 C 2.796875 -5.472656 3.183594 -5.566406 3.585938 -5.570313 C 4.289063 -5.566406 4.886719 -5.308594 5.382813 -4.792969 C 5.875 -4.277344 6.121094 -3.609375 6.125 -2.789063 C 6.121094 -2.25 6.003906 -1.746094 5.773438 -1.285156 C 5.539063 -0.820313 5.222656 -0.46875 4.816406 -0.222656 C 4.410156 0.0234375 3.949219 0.144531 3.433594 0.148438 C 2.554688 0.144531 1.835938 -0.175781 1.285156 -0.820313 C 0.726563 -1.46875 0.449219 -2.535156 0.453125 -4.019531 C 0.449219 -5.675781 0.757813 -6.882813 1.371094 -7.640625 C 1.902344 -8.296875 2.621094 -8.625 3.53125 -8.625 C 4.207031 -8.625 4.761719 -8.433594 5.195313 -8.054688 C 5.625 -7.675781 5.882813 -7.152344 5.96875 -6.484375 Z M 1.664063 -2.78125 C 1.664063 -2.417969 1.738281 -2.070313 1.894531 -1.738281 C 2.042969 -1.40625 2.261719 -1.152344 2.542969 -0.980469 C 2.820313 -0.800781 3.109375 -0.714844 3.414063 -0.71875 C 3.859375 -0.714844 4.242188 -0.894531 4.566406 -1.257813 C 4.882813 -1.613281 5.042969 -2.101563 5.046875 -2.726563 C 5.042969 -3.316406 4.886719 -3.785156 4.570313 -4.128906 C 4.25 -4.46875 3.851563 -4.640625 3.375 -4.640625 C 2.898438 -4.640625 2.492188 -4.46875 2.160156 -4.128906 C 1.828125 -3.785156 1.664063 -3.335938 1.664063 -2.78125 Z M 1.664063 -2.78125 \"/>\n",
       "</symbol>\n",
       "<symbol overflow=\"visible\" id=\"glyph0-13\">\n",
       "<path style=\"stroke:none;\" d=\"M 3.878906 0 L 3.878906 -2.054688 L 0.152344 -2.054688 L 0.152344 -3.023438 L 4.070313 -8.589844 L 4.933594 -8.589844 L 4.933594 -3.023438 L 6.09375 -3.023438 L 6.09375 -2.054688 L 4.933594 -2.054688 L 4.933594 0 Z M 3.878906 -3.023438 L 3.878906 -6.898438 L 1.1875 -3.023438 Z M 3.878906 -3.023438 \"/>\n",
       "</symbol>\n",
       "<symbol overflow=\"visible\" id=\"glyph0-14\">\n",
       "<path style=\"stroke:none;\" d=\"M 6.039063 -1.015625 L 6.039063 0 L 0.363281 0 C 0.355469 -0.253906 0.394531 -0.496094 0.484375 -0.734375 C 0.628906 -1.117188 0.859375 -1.5 1.179688 -1.875 C 1.492188 -2.25 1.953125 -2.683594 2.5625 -3.175781 C 3.492188 -3.941406 4.125 -4.546875 4.453125 -4.992188 C 4.78125 -5.4375 4.945313 -5.859375 4.945313 -6.265625 C 4.945313 -6.679688 4.792969 -7.03125 4.496094 -7.320313 C 4.191406 -7.601563 3.804688 -7.746094 3.328125 -7.75 C 2.820313 -7.746094 2.414063 -7.59375 2.109375 -7.292969 C 1.804688 -6.984375 1.648438 -6.5625 1.648438 -6.03125 L 0.5625 -6.140625 C 0.632813 -6.945313 0.910156 -7.558594 1.398438 -7.988281 C 1.878906 -8.410156 2.53125 -8.625 3.351563 -8.625 C 4.171875 -8.625 4.824219 -8.394531 5.308594 -7.9375 C 5.789063 -7.480469 6.027344 -6.914063 6.03125 -6.242188 C 6.027344 -5.894531 5.957031 -5.558594 5.820313 -5.226563 C 5.675781 -4.890625 5.441406 -4.539063 5.117188 -4.175781 C 4.789063 -3.804688 4.25 -3.300781 3.492188 -2.664063 C 2.859375 -2.128906 2.453125 -1.769531 2.273438 -1.582031 C 2.09375 -1.394531 1.945313 -1.203125 1.828125 -1.015625 Z M 6.039063 -1.015625 \"/>\n",
       "</symbol>\n",
       "<symbol overflow=\"visible\" id=\"glyph1-0\">\n",
       "<path style=\"stroke:none;\" d=\"M -2.757813 -0.539063 L -2.851563 -1.609375 C -2.421875 -1.660156 -2.070313 -1.777344 -1.796875 -1.964844 C -1.519531 -2.144531 -1.296875 -2.433594 -1.128906 -2.828125 C -0.957031 -3.214844 -0.871094 -3.65625 -0.875 -4.148438 C -0.871094 -4.578125 -0.9375 -4.960938 -1.066406 -5.296875 C -1.191406 -5.628906 -1.367188 -5.875 -1.59375 -6.039063 C -1.820313 -6.199219 -2.066406 -6.28125 -2.332031 -6.28125 C -2.597656 -6.28125 -2.832031 -6.203125 -3.035156 -6.046875 C -3.238281 -5.890625 -3.40625 -5.632813 -3.546875 -5.273438 C -3.632813 -5.042969 -3.773438 -4.53125 -3.964844 -3.746094 C -4.152344 -2.953125 -4.332031 -2.402344 -4.5 -2.085938 C -4.710938 -1.671875 -4.976563 -1.363281 -5.296875 -1.167969 C -5.617188 -0.964844 -5.972656 -0.867188 -6.367188 -0.867188 C -6.800781 -0.867188 -7.207031 -0.988281 -7.582031 -1.234375 C -7.957031 -1.480469 -8.242188 -1.839844 -8.441406 -2.3125 C -8.632813 -2.785156 -8.730469 -3.3125 -8.734375 -3.890625 C -8.730469 -4.523438 -8.628906 -5.082031 -8.425781 -5.574219 C -8.222656 -6.058594 -7.921875 -6.433594 -7.523438 -6.695313 C -7.125 -6.957031 -6.671875 -7.097656 -6.171875 -7.117188 L -6.085938 -6.03125 C -6.628906 -5.96875 -7.039063 -5.769531 -7.316406 -5.433594 C -7.59375 -5.09375 -7.734375 -4.597656 -7.734375 -3.9375 C -7.734375 -3.25 -7.605469 -2.746094 -7.355469 -2.433594 C -7.097656 -2.113281 -6.796875 -1.957031 -6.445313 -1.960938 C -6.136719 -1.957031 -5.882813 -2.070313 -5.683594 -2.296875 C -5.480469 -2.515625 -5.273438 -3.085938 -5.070313 -4.011719 C -4.859375 -4.933594 -4.679688 -5.566406 -4.523438 -5.914063 C -4.292969 -6.410156 -4 -6.78125 -3.648438 -7.019531 C -3.292969 -7.253906 -2.886719 -7.371094 -2.425781 -7.375 C -1.96875 -7.371094 -1.535156 -7.242188 -1.132813 -6.984375 C -0.726563 -6.722656 -0.414063 -6.34375 -0.1875 -5.855469 C 0.0351563 -5.363281 0.144531 -4.8125 0.148438 -4.203125 C 0.144531 -3.421875 0.0351563 -2.769531 -0.191406 -2.246094 C -0.414063 -1.71875 -0.753906 -1.308594 -1.214844 -1.011719 C -1.667969 -0.710938 -2.183594 -0.554688 -2.757813 -0.539063 Z M -2.757813 -0.539063 \"/>\n",
       "</symbol>\n",
       "<symbol overflow=\"visible\" id=\"glyph1-1\">\n",
       "<path style=\"stroke:none;\" d=\"M -2.003906 -5.050781 L -1.867188 -6.140625 C -1.230469 -5.96875 -0.738281 -5.648438 -0.386719 -5.183594 C -0.0351563 -4.71875 0.140625 -4.125 0.140625 -3.40625 C 0.140625 -2.492188 -0.136719 -1.769531 -0.699219 -1.238281 C -1.253906 -0.699219 -2.042969 -0.433594 -3.058594 -0.4375 C -4.105469 -0.433594 -4.917969 -0.703125 -5.496094 -1.246094 C -6.074219 -1.78125 -6.363281 -2.480469 -6.363281 -3.34375 C -6.363281 -4.175781 -6.078125 -4.855469 -5.511719 -5.382813 C -4.945313 -5.910156 -4.148438 -6.175781 -3.125 -6.175781 C -3.058594 -6.175781 -2.964844 -6.171875 -2.84375 -6.171875 L -2.84375 -1.53125 C -2.15625 -1.5625 -1.632813 -1.757813 -1.269531 -2.109375 C -0.90625 -2.457031 -0.726563 -2.890625 -0.726563 -3.410156 C -0.726563 -3.796875 -0.828125 -4.125 -1.03125 -4.402344 C -1.234375 -4.671875 -1.558594 -4.890625 -2.003906 -5.050781 Z M -3.710938 -1.585938 L -3.710938 -5.0625 C -4.226563 -5.015625 -4.621094 -4.882813 -4.886719 -4.664063 C -5.292969 -4.328125 -5.496094 -3.890625 -5.496094 -3.359375 C -5.496094 -2.871094 -5.332031 -2.464844 -5.007813 -2.136719 C -4.683594 -1.804688 -4.25 -1.621094 -3.710938 -1.585938 Z M -3.710938 -1.585938 \"/>\n",
       "</symbol>\n",
       "<symbol overflow=\"visible\" id=\"glyph1-2\">\n",
       "<path style=\"stroke:none;\" d=\"M 0 -0.789063 L -6.222656 -0.789063 L -6.222656 -1.742188 L -5.335938 -1.742188 C -6.019531 -2.195313 -6.363281 -2.855469 -6.363281 -3.71875 C -6.363281 -4.089844 -6.292969 -4.433594 -6.160156 -4.753906 C -6.023438 -5.066406 -5.847656 -5.304688 -5.632813 -5.460938 C -5.410156 -5.617188 -5.152344 -5.726563 -4.851563 -5.789063 C -4.65625 -5.828125 -4.3125 -5.847656 -3.828125 -5.847656 L 0 -5.847656 L 0 -4.792969 L -3.785156 -4.792969 C -4.214844 -4.792969 -4.535156 -4.75 -4.75 -4.667969 C -4.960938 -4.585938 -5.128906 -4.441406 -5.257813 -4.234375 C -5.382813 -4.023438 -5.449219 -3.777344 -5.449219 -3.5 C -5.449219 -3.046875 -5.304688 -2.660156 -5.019531 -2.332031 C -4.734375 -2.003906 -4.195313 -1.839844 -3.398438 -1.84375 L 0 -1.84375 Z M 0 -0.789063 \"/>\n",
       "</symbol>\n",
       "<symbol overflow=\"visible\" id=\"glyph1-3\">\n",
       "<path style=\"stroke:none;\" d=\"M -1.859375 -0.367188 L -2.023438 -1.414063 C -1.601563 -1.46875 -1.28125 -1.632813 -1.058594 -1.902344 C -0.835938 -2.167969 -0.726563 -2.542969 -0.726563 -3.023438 C -0.726563 -3.507813 -0.824219 -3.867188 -1.023438 -4.101563 C -1.21875 -4.335938 -1.449219 -4.453125 -1.71875 -4.453125 C -1.953125 -4.453125 -2.140625 -4.347656 -2.28125 -4.140625 C -2.371094 -3.996094 -2.492188 -3.636719 -2.636719 -3.0625 C -2.832031 -2.289063 -3 -1.753906 -3.144531 -1.457031 C -3.285156 -1.15625 -3.480469 -0.929688 -3.734375 -0.777344 C -3.984375 -0.621094 -4.265625 -0.542969 -4.570313 -0.546875 C -4.84375 -0.542969 -5.097656 -0.605469 -5.339844 -0.734375 C -5.574219 -0.859375 -5.773438 -1.035156 -5.929688 -1.253906 C -6.046875 -1.417969 -6.148438 -1.640625 -6.234375 -1.925781 C -6.320313 -2.207031 -6.363281 -2.511719 -6.363281 -2.835938 C -6.363281 -3.324219 -6.292969 -3.75 -6.152344 -4.121094 C -6.011719 -4.488281 -5.820313 -4.761719 -5.578125 -4.9375 C -5.335938 -5.113281 -5.015625 -5.234375 -4.617188 -5.304688 L -4.476563 -4.273438 C -4.796875 -4.222656 -5.046875 -4.085938 -5.226563 -3.863281 C -5.40625 -3.636719 -5.496094 -3.320313 -5.496094 -2.914063 C -5.496094 -2.425781 -5.414063 -2.082031 -5.253906 -1.875 C -5.09375 -1.664063 -4.90625 -1.558594 -4.695313 -1.5625 C -4.554688 -1.558594 -4.433594 -1.601563 -4.324219 -1.695313 C -4.210938 -1.773438 -4.117188 -1.910156 -4.042969 -2.097656 C -4.003906 -2.203125 -3.914063 -2.511719 -3.773438 -3.03125 C -3.574219 -3.773438 -3.410156 -4.292969 -3.285156 -4.589844 C -3.15625 -4.878906 -2.972656 -5.113281 -2.730469 -5.285156 C -2.488281 -5.453125 -2.1875 -5.535156 -1.828125 -5.539063 C -1.476563 -5.535156 -1.144531 -5.433594 -0.832031 -5.230469 C -0.519531 -5.023438 -0.277344 -4.726563 -0.113281 -4.339844 C 0.0585938 -3.953125 0.140625 -3.515625 0.140625 -3.03125 C 0.140625 -2.21875 -0.0273438 -1.601563 -0.363281 -1.179688 C -0.699219 -0.753906 -1.195313 -0.484375 -1.859375 -0.367188 Z M -1.859375 -0.367188 \"/>\n",
       "</symbol>\n",
       "<symbol overflow=\"visible\" id=\"glyph1-4\">\n",
       "<path style=\"stroke:none;\" d=\"M -7.375 -0.796875 L -8.589844 -0.796875 L -8.589844 -1.851563 L -7.375 -1.851563 Z M 0 -0.796875 L -6.222656 -0.796875 L -6.222656 -1.851563 L 0 -1.851563 Z M 0 -0.796875 \"/>\n",
       "</symbol>\n",
       "<symbol overflow=\"visible\" id=\"glyph1-5\">\n",
       "<path style=\"stroke:none;\" d=\"M -0.945313 -3.09375 L -0.0117188 -3.246094 C 0.0507813 -2.949219 0.0820313 -2.683594 0.0820313 -2.449219 C 0.0820313 -2.066406 0.0234375 -1.769531 -0.0976563 -1.558594 C -0.21875 -1.347656 -0.378906 -1.199219 -0.578125 -1.113281 C -0.773438 -1.027344 -1.1875 -0.984375 -1.820313 -0.984375 L -5.402344 -0.984375 L -5.402344 -0.210938 L -6.222656 -0.210938 L -6.222656 -0.984375 L -7.765625 -0.984375 L -8.398438 -2.03125 L -6.222656 -2.03125 L -6.222656 -3.09375 L -5.402344 -3.09375 L -5.402344 -2.03125 L -1.765625 -2.03125 C -1.460938 -2.027344 -1.269531 -2.046875 -1.183594 -2.085938 C -1.097656 -2.125 -1.027344 -2.183594 -0.976563 -2.269531 C -0.925781 -2.351563 -0.902344 -2.472656 -0.902344 -2.632813 C -0.902344 -2.742188 -0.914063 -2.898438 -0.945313 -3.09375 Z M -0.945313 -3.09375 \"/>\n",
       "</symbol>\n",
       "<symbol overflow=\"visible\" id=\"glyph1-6\">\n",
       "<path style=\"stroke:none;\" d=\"M 0 -2.519531 L -6.222656 -0.152344 L -6.222656 -1.265625 L -2.496094 -2.601563 C -2.089844 -2.746094 -1.671875 -2.878906 -1.242188 -3 C -1.570313 -3.09375 -1.964844 -3.222656 -2.425781 -3.390625 L -6.222656 -4.773438 L -6.222656 -5.859375 L 0 -3.503906 Z M 0 -2.519531 \"/>\n",
       "</symbol>\n",
       "<symbol overflow=\"visible\" id=\"glyph1-7\">\n",
       "<path style=\"stroke:none;\" d=\"M 2.398438 -0.742188 L 1.40625 -0.625 C 1.46875 -0.855469 1.5 -1.058594 1.5 -1.230469 C 1.5 -1.464844 1.460938 -1.652344 1.382813 -1.792969 C 1.304688 -1.933594 1.195313 -2.046875 1.054688 -2.140625 C 0.949219 -2.203125 0.6875 -2.3125 0.269531 -2.460938 C 0.207031 -2.480469 0.121094 -2.511719 0.0117188 -2.554688 L -6.222656 -0.195313 L -6.222656 -1.328125 L -2.617188 -2.625 C -2.160156 -2.789063 -1.679688 -2.9375 -1.179688 -3.078125 C -1.660156 -3.195313 -2.132813 -3.339844 -2.59375 -3.507813 L -6.222656 -4.839844 L -6.222656 -5.894531 L 0.105469 -3.527344 C 0.789063 -3.273438 1.257813 -3.074219 1.515625 -2.9375 C 1.863281 -2.746094 2.117188 -2.53125 2.28125 -2.292969 C 2.4375 -2.046875 2.519531 -1.757813 2.523438 -1.421875 C 2.519531 -1.214844 2.476563 -0.988281 2.398438 -0.742188 Z M 2.398438 -0.742188 \"/>\n",
       "</symbol>\n",
       "<symbol overflow=\"visible\" id=\"glyph1-8\">\n",
       "<path style=\"stroke:none;\" d=\"M -4.234375 -0.5 C -5.246094 -0.496094 -6.0625 -0.601563 -6.6875 -0.8125 C -7.304688 -1.019531 -7.785156 -1.328125 -8.121094 -1.742188 C -8.457031 -2.148438 -8.625 -2.667969 -8.625 -3.296875 C -8.625 -3.757813 -8.53125 -4.164063 -8.347656 -4.511719 C -8.160156 -4.855469 -7.890625 -5.140625 -7.542969 -5.371094 C -7.191406 -5.59375 -6.765625 -5.773438 -6.265625 -5.90625 C -5.761719 -6.035156 -5.085938 -6.097656 -4.234375 -6.101563 C -3.226563 -6.097656 -2.414063 -5.996094 -1.796875 -5.789063 C -1.175781 -5.578125 -0.695313 -5.265625 -0.359375 -4.859375 C -0.0195313 -4.445313 0.144531 -3.925781 0.148438 -3.296875 C 0.144531 -2.464844 -0.148438 -1.816406 -0.742188 -1.347656 C -1.457031 -0.78125 -2.621094 -0.496094 -4.234375 -0.5 Z M -4.234375 -1.582031 C -2.824219 -1.582031 -1.886719 -1.746094 -1.417969 -2.074219 C -0.949219 -2.402344 -0.714844 -2.808594 -0.71875 -3.296875 C -0.714844 -3.777344 -0.949219 -4.183594 -1.421875 -4.519531 C -1.886719 -4.847656 -2.824219 -5.015625 -4.234375 -5.015625 C -5.648438 -5.015625 -6.589844 -4.847656 -7.054688 -4.519531 C -7.515625 -4.183594 -7.746094 -3.773438 -7.75 -3.289063 C -7.746094 -2.800781 -7.542969 -2.414063 -7.136719 -2.125 C -6.613281 -1.761719 -5.644531 -1.582031 -4.234375 -1.582031 Z M -4.234375 -1.582031 \"/>\n",
       "</symbol>\n",
       "<symbol overflow=\"visible\" id=\"glyph1-9\">\n",
       "<path style=\"stroke:none;\" d=\"M 0 -1.089844 L -1.203125 -1.089844 L -1.203125 -2.289063 L 0 -2.289063 Z M 0 -1.089844 \"/>\n",
       "</symbol>\n",
       "<symbol overflow=\"visible\" id=\"glyph1-10\">\n",
       "<path style=\"stroke:none;\" d=\"M -1.015625 -6.039063 L 0 -6.039063 L 0 -0.363281 C -0.253906 -0.355469 -0.496094 -0.394531 -0.734375 -0.484375 C -1.117188 -0.628906 -1.5 -0.859375 -1.875 -1.179688 C -2.25 -1.492188 -2.683594 -1.953125 -3.175781 -2.5625 C -3.941406 -3.492188 -4.546875 -4.125 -4.992188 -4.453125 C -5.4375 -4.78125 -5.859375 -4.945313 -6.265625 -4.945313 C -6.679688 -4.945313 -7.03125 -4.792969 -7.320313 -4.496094 C -7.601563 -4.191406 -7.746094 -3.804688 -7.75 -3.328125 C -7.746094 -2.820313 -7.59375 -2.414063 -7.292969 -2.109375 C -6.984375 -1.804688 -6.5625 -1.648438 -6.03125 -1.648438 L -6.140625 -0.5625 C -6.945313 -0.632813 -7.558594 -0.910156 -7.988281 -1.398438 C -8.410156 -1.878906 -8.625 -2.53125 -8.625 -3.351563 C -8.625 -4.171875 -8.394531 -4.824219 -7.9375 -5.308594 C -7.480469 -5.789063 -6.914063 -6.027344 -6.242188 -6.03125 C -5.894531 -6.027344 -5.558594 -5.957031 -5.226563 -5.820313 C -4.890625 -5.675781 -4.539063 -5.441406 -4.175781 -5.117188 C -3.804688 -4.789063 -3.300781 -4.25 -2.664063 -3.492188 C -2.128906 -2.859375 -1.769531 -2.453125 -1.582031 -2.273438 C -1.394531 -2.09375 -1.203125 -1.945313 -1.015625 -1.828125 Z M -1.015625 -6.039063 \"/>\n",
       "</symbol>\n",
       "<symbol overflow=\"visible\" id=\"glyph1-11\">\n",
       "<path style=\"stroke:none;\" d=\"M 0 -3.878906 L -2.054688 -3.878906 L -2.054688 -0.152344 L -3.023438 -0.152344 L -8.589844 -4.070313 L -8.589844 -4.933594 L -3.023438 -4.933594 L -3.023438 -6.09375 L -2.054688 -6.09375 L -2.054688 -4.933594 L 0 -4.933594 Z M -3.023438 -3.878906 L -6.898438 -3.878906 L -3.023438 -1.1875 Z M -3.023438 -3.878906 \"/>\n",
       "</symbol>\n",
       "<symbol overflow=\"visible\" id=\"glyph1-12\">\n",
       "<path style=\"stroke:none;\" d=\"M -6.484375 -5.96875 L -6.40625 -4.921875 C -6.8125 -4.828125 -7.113281 -4.695313 -7.304688 -4.523438 C -7.605469 -4.234375 -7.757813 -3.882813 -7.757813 -3.46875 C -7.757813 -3.132813 -7.664063 -2.835938 -7.476563 -2.585938 C -7.234375 -2.25 -6.878906 -1.988281 -6.414063 -1.796875 C -5.949219 -1.605469 -5.289063 -1.507813 -4.429688 -1.5 C -4.8125 -1.753906 -5.097656 -2.0625 -5.289063 -2.433594 C -5.472656 -2.796875 -5.566406 -3.183594 -5.570313 -3.585938 C -5.566406 -4.289063 -5.308594 -4.886719 -4.792969 -5.382813 C -4.277344 -5.875 -3.609375 -6.121094 -2.789063 -6.125 C -2.25 -6.121094 -1.746094 -6.003906 -1.285156 -5.773438 C -0.820313 -5.539063 -0.46875 -5.222656 -0.222656 -4.816406 C 0.0234375 -4.410156 0.144531 -3.949219 0.148438 -3.433594 C 0.144531 -2.554688 -0.175781 -1.835938 -0.820313 -1.285156 C -1.46875 -0.726563 -2.535156 -0.449219 -4.019531 -0.453125 C -5.675781 -0.449219 -6.882813 -0.757813 -7.640625 -1.371094 C -8.296875 -1.902344 -8.625 -2.621094 -8.625 -3.53125 C -8.625 -4.207031 -8.433594 -4.761719 -8.054688 -5.195313 C -7.675781 -5.625 -7.152344 -5.882813 -6.484375 -5.96875 Z M -2.78125 -1.664063 C -2.417969 -1.664063 -2.070313 -1.738281 -1.738281 -1.894531 C -1.40625 -2.042969 -1.152344 -2.261719 -0.980469 -2.542969 C -0.800781 -2.820313 -0.714844 -3.109375 -0.71875 -3.414063 C -0.714844 -3.859375 -0.894531 -4.242188 -1.257813 -4.566406 C -1.613281 -4.882813 -2.101563 -5.042969 -2.726563 -5.046875 C -3.316406 -5.042969 -3.785156 -4.886719 -4.128906 -4.570313 C -4.46875 -4.25 -4.640625 -3.851563 -4.640625 -3.375 C -4.640625 -2.898438 -4.46875 -2.492188 -4.128906 -2.160156 C -3.785156 -1.828125 -3.335938 -1.664063 -2.78125 -1.664063 Z M -2.78125 -1.664063 \"/>\n",
       "</symbol>\n",
       "<symbol overflow=\"visible\" id=\"glyph1-13\">\n",
       "<path style=\"stroke:none;\" d=\"M -4.65625 -2.121094 C -4.816406 -1.683594 -5.046875 -1.359375 -5.34375 -1.148438 C -5.640625 -0.9375 -5.996094 -0.832031 -6.410156 -0.832031 C -7.035156 -0.832031 -7.558594 -1.054688 -7.984375 -1.503906 C -8.410156 -1.953125 -8.625 -2.550781 -8.625 -3.296875 C -8.625 -4.042969 -8.40625 -4.648438 -7.972656 -5.109375 C -7.535156 -5.566406 -7.003906 -5.792969 -6.382813 -5.796875 C -5.976563 -5.792969 -5.628906 -5.6875 -5.339844 -5.480469 C -5.042969 -5.269531 -4.816406 -4.953125 -4.65625 -4.53125 C -4.480469 -5.054688 -4.203125 -5.457031 -3.824219 -5.734375 C -3.4375 -6.007813 -2.980469 -6.144531 -2.453125 -6.148438 C -1.714844 -6.144531 -1.097656 -5.886719 -0.601563 -5.367188 C -0.101563 -4.84375 0.144531 -4.160156 0.148438 -3.316406 C 0.144531 -2.46875 -0.101563 -1.785156 -0.605469 -1.265625 C -1.105469 -0.742188 -1.734375 -0.480469 -2.484375 -0.484375 C -3.039063 -0.480469 -3.503906 -0.621094 -3.886719 -0.910156 C -4.261719 -1.191406 -4.519531 -1.597656 -4.65625 -2.121094 Z M -6.445313 -1.910156 C -6.039063 -1.910156 -5.707031 -2.039063 -5.449219 -2.300781 C -5.191406 -2.5625 -5.0625 -2.902344 -5.0625 -3.320313 C -5.0625 -3.722656 -5.1875 -4.054688 -5.445313 -4.320313 C -5.695313 -4.578125 -6.011719 -4.710938 -6.386719 -4.710938 C -6.773438 -4.710938 -7.097656 -4.574219 -7.363281 -4.308594 C -7.625 -4.035156 -7.757813 -3.703125 -7.757813 -3.3125 C -7.757813 -2.90625 -7.628906 -2.574219 -7.371094 -2.308594 C -7.113281 -2.042969 -6.804688 -1.910156 -6.445313 -1.910156 Z M -2.476563 -1.570313 C -2.175781 -1.570313 -1.886719 -1.640625 -1.605469 -1.785156 C -1.324219 -1.925781 -1.105469 -2.136719 -0.949219 -2.421875 C -0.792969 -2.699219 -0.714844 -3.003906 -0.71875 -3.328125 C -0.714844 -3.832031 -0.878906 -4.246094 -1.207031 -4.578125 C -1.53125 -4.902344 -1.941406 -5.066406 -2.445313 -5.070313 C -2.945313 -5.066406 -3.367188 -4.898438 -3.703125 -4.5625 C -4.035156 -4.222656 -4.199219 -3.800781 -4.203125 -3.292969 C -4.199219 -2.792969 -4.035156 -2.378906 -3.710938 -2.058594 C -3.378906 -1.730469 -2.96875 -1.570313 -2.476563 -1.570313 Z M -2.476563 -1.570313 \"/>\n",
       "</symbol>\n",
       "<symbol overflow=\"visible\" id=\"glyph1-14\">\n",
       "<path style=\"stroke:none;\" d=\"M 0 -4.46875 L 0 -3.414063 L -6.71875 -3.414063 C -6.476563 -3.160156 -6.234375 -2.828125 -5.996094 -2.414063 C -5.75 -2 -5.570313 -1.628906 -5.449219 -1.304688 L -6.46875 -1.304688 C -6.742188 -1.894531 -7.078125 -2.410156 -7.476563 -2.851563 C -7.871094 -3.292969 -8.253906 -3.605469 -8.625 -3.789063 L -8.625 -4.46875 Z M 0 -4.46875 \"/>\n",
       "</symbol>\n",
       "</g>\n",
       "<clipPath id=\"clip1\">\n",
       "  <path d=\"M 59.039063 30.238281 L 474.757813 30.238281 L 474.757813 445.957031 L 59.039063 445.957031 Z M 59.039063 30.238281 \"/>\n",
       "</clipPath>\n",
       "</defs>\n",
       "<g id=\"surface56\">\n",
       "<rect x=\"0\" y=\"0\" width=\"504\" height=\"504\" style=\"fill:rgb(100%,100%,100%);fill-opacity:1;stroke:none;\"/>\n",
       "<g style=\"fill:rgb(0%,0%,0%);fill-opacity:1;\">\n",
       "  <use xlink:href=\"#glyph0-0\" x=\"239.390625\" y=\"492.480469\"/>\n",
       "  <use xlink:href=\"#glyph0-1\" x=\"247.394531\" y=\"492.480469\"/>\n",
       "  <use xlink:href=\"#glyph0-2\" x=\"254.068359\" y=\"492.480469\"/>\n",
       "  <use xlink:href=\"#glyph0-3\" x=\"260.742188\" y=\"492.480469\"/>\n",
       "  <use xlink:href=\"#glyph0-4\" x=\"266.742188\" y=\"492.480469\"/>\n",
       "  <use xlink:href=\"#glyph0-5\" x=\"269.408203\" y=\"492.480469\"/>\n",
       "  <use xlink:href=\"#glyph0-4\" x=\"272.742188\" y=\"492.480469\"/>\n",
       "  <use xlink:href=\"#glyph0-3\" x=\"275.408203\" y=\"492.480469\"/>\n",
       "  <use xlink:href=\"#glyph0-4\" x=\"281.408203\" y=\"492.480469\"/>\n",
       "  <use xlink:href=\"#glyph0-6\" x=\"284.074219\" y=\"492.480469\"/>\n",
       "  <use xlink:href=\"#glyph0-7\" x=\"287.408203\" y=\"492.480469\"/>\n",
       "</g>\n",
       "<g style=\"fill:rgb(0%,0%,0%);fill-opacity:1;\">\n",
       "  <use xlink:href=\"#glyph1-0\" x=\"20.160156\" y=\"264.609375\"/>\n",
       "  <use xlink:href=\"#glyph1-1\" x=\"20.160156\" y=\"256.605469\"/>\n",
       "  <use xlink:href=\"#glyph1-2\" x=\"20.160156\" y=\"249.931641\"/>\n",
       "  <use xlink:href=\"#glyph1-3\" x=\"20.160156\" y=\"243.257813\"/>\n",
       "  <use xlink:href=\"#glyph1-4\" x=\"20.160156\" y=\"237.257813\"/>\n",
       "  <use xlink:href=\"#glyph1-5\" x=\"20.160156\" y=\"234.591797\"/>\n",
       "  <use xlink:href=\"#glyph1-4\" x=\"20.160156\" y=\"231.257813\"/>\n",
       "  <use xlink:href=\"#glyph1-6\" x=\"20.160156\" y=\"228.591797\"/>\n",
       "  <use xlink:href=\"#glyph1-4\" x=\"20.160156\" y=\"222.591797\"/>\n",
       "  <use xlink:href=\"#glyph1-5\" x=\"20.160156\" y=\"219.925781\"/>\n",
       "  <use xlink:href=\"#glyph1-7\" x=\"20.160156\" y=\"216.591797\"/>\n",
       "</g>\n",
       "<path style=\"fill:none;stroke-width:0.75;stroke-linecap:round;stroke-linejoin:round;stroke:rgb(0%,0%,0%);stroke-opacity:1;stroke-miterlimit:10;\" d=\"M 59.039063 444.960938 L 473.761719 444.960938 L 473.761719 30.238281 L 59.039063 30.238281 L 59.039063 444.960938 \"/>\n",
       "<path style=\"fill:none;stroke-width:0.75;stroke-linecap:round;stroke-linejoin:round;stroke:rgb(0%,0%,0%);stroke-opacity:1;stroke-miterlimit:10;\" d=\"M 59.039063 429.601563 L 59.039063 45.601563 \"/>\n",
       "<path style=\"fill:none;stroke-width:0.75;stroke-linecap:round;stroke-linejoin:round;stroke:rgb(0%,0%,0%);stroke-opacity:1;stroke-miterlimit:10;\" d=\"M 59.039063 429.601563 L 51.839844 429.601563 \"/>\n",
       "<path style=\"fill:none;stroke-width:0.75;stroke-linecap:round;stroke-linejoin:round;stroke:rgb(0%,0%,0%);stroke-opacity:1;stroke-miterlimit:10;\" d=\"M 59.039063 352.800781 L 51.839844 352.800781 \"/>\n",
       "<path style=\"fill:none;stroke-width:0.75;stroke-linecap:round;stroke-linejoin:round;stroke:rgb(0%,0%,0%);stroke-opacity:1;stroke-miterlimit:10;\" d=\"M 59.039063 276 L 51.839844 276 \"/>\n",
       "<path style=\"fill:none;stroke-width:0.75;stroke-linecap:round;stroke-linejoin:round;stroke:rgb(0%,0%,0%);stroke-opacity:1;stroke-miterlimit:10;\" d=\"M 59.039063 199.199219 L 51.839844 199.199219 \"/>\n",
       "<path style=\"fill:none;stroke-width:0.75;stroke-linecap:round;stroke-linejoin:round;stroke:rgb(0%,0%,0%);stroke-opacity:1;stroke-miterlimit:10;\" d=\"M 59.039063 122.398438 L 51.839844 122.398438 \"/>\n",
       "<path style=\"fill:none;stroke-width:0.75;stroke-linecap:round;stroke-linejoin:round;stroke:rgb(0%,0%,0%);stroke-opacity:1;stroke-miterlimit:10;\" d=\"M 59.039063 45.601563 L 51.839844 45.601563 \"/>\n",
       "<g style=\"fill:rgb(0%,0%,0%);fill-opacity:1;\">\n",
       "  <use xlink:href=\"#glyph1-8\" x=\"41.761719\" y=\"437.941406\"/>\n",
       "  <use xlink:href=\"#glyph1-9\" x=\"41.761719\" y=\"431.267578\"/>\n",
       "  <use xlink:href=\"#glyph1-8\" x=\"41.761719\" y=\"427.933594\"/>\n",
       "</g>\n",
       "<g style=\"fill:rgb(0%,0%,0%);fill-opacity:1;\">\n",
       "  <use xlink:href=\"#glyph1-8\" x=\"41.761719\" y=\"361.140625\"/>\n",
       "  <use xlink:href=\"#glyph1-9\" x=\"41.761719\" y=\"354.466797\"/>\n",
       "  <use xlink:href=\"#glyph1-10\" x=\"41.761719\" y=\"351.132813\"/>\n",
       "</g>\n",
       "<g style=\"fill:rgb(0%,0%,0%);fill-opacity:1;\">\n",
       "  <use xlink:href=\"#glyph1-8\" x=\"41.761719\" y=\"284.339844\"/>\n",
       "  <use xlink:href=\"#glyph1-9\" x=\"41.761719\" y=\"277.666016\"/>\n",
       "  <use xlink:href=\"#glyph1-11\" x=\"41.761719\" y=\"274.332031\"/>\n",
       "</g>\n",
       "<g style=\"fill:rgb(0%,0%,0%);fill-opacity:1;\">\n",
       "  <use xlink:href=\"#glyph1-8\" x=\"41.761719\" y=\"207.539063\"/>\n",
       "  <use xlink:href=\"#glyph1-9\" x=\"41.761719\" y=\"200.865234\"/>\n",
       "  <use xlink:href=\"#glyph1-12\" x=\"41.761719\" y=\"197.53125\"/>\n",
       "</g>\n",
       "<g style=\"fill:rgb(0%,0%,0%);fill-opacity:1;\">\n",
       "  <use xlink:href=\"#glyph1-8\" x=\"41.761719\" y=\"130.738281\"/>\n",
       "  <use xlink:href=\"#glyph1-9\" x=\"41.761719\" y=\"124.064453\"/>\n",
       "  <use xlink:href=\"#glyph1-13\" x=\"41.761719\" y=\"120.730469\"/>\n",
       "</g>\n",
       "<g style=\"fill:rgb(0%,0%,0%);fill-opacity:1;\">\n",
       "  <use xlink:href=\"#glyph1-14\" x=\"41.761719\" y=\"53.941406\"/>\n",
       "  <use xlink:href=\"#glyph1-9\" x=\"41.761719\" y=\"47.267578\"/>\n",
       "  <use xlink:href=\"#glyph1-8\" x=\"41.761719\" y=\"43.933594\"/>\n",
       "</g>\n",
       "<path style=\"fill:none;stroke-width:0.75;stroke-linecap:round;stroke-linejoin:round;stroke:rgb(0%,0%,0%);stroke-opacity:1;stroke-miterlimit:10;\" d=\"M 458.398438 444.960938 L 74.398438 444.960938 \"/>\n",
       "<path style=\"fill:none;stroke-width:0.75;stroke-linecap:round;stroke-linejoin:round;stroke:rgb(0%,0%,0%);stroke-opacity:1;stroke-miterlimit:10;\" d=\"M 458.398438 444.960938 L 458.398438 452.160156 \"/>\n",
       "<path style=\"fill:none;stroke-width:0.75;stroke-linecap:round;stroke-linejoin:round;stroke:rgb(0%,0%,0%);stroke-opacity:1;stroke-miterlimit:10;\" d=\"M 381.601563 444.960938 L 381.601563 452.160156 \"/>\n",
       "<path style=\"fill:none;stroke-width:0.75;stroke-linecap:round;stroke-linejoin:round;stroke:rgb(0%,0%,0%);stroke-opacity:1;stroke-miterlimit:10;\" d=\"M 304.800781 444.960938 L 304.800781 452.160156 \"/>\n",
       "<path style=\"fill:none;stroke-width:0.75;stroke-linecap:round;stroke-linejoin:round;stroke:rgb(0%,0%,0%);stroke-opacity:1;stroke-miterlimit:10;\" d=\"M 228 444.960938 L 228 452.160156 \"/>\n",
       "<path style=\"fill:none;stroke-width:0.75;stroke-linecap:round;stroke-linejoin:round;stroke:rgb(0%,0%,0%);stroke-opacity:1;stroke-miterlimit:10;\" d=\"M 151.199219 444.960938 L 151.199219 452.160156 \"/>\n",
       "<path style=\"fill:none;stroke-width:0.75;stroke-linecap:round;stroke-linejoin:round;stroke:rgb(0%,0%,0%);stroke-opacity:1;stroke-miterlimit:10;\" d=\"M 74.398438 444.960938 L 74.398438 452.160156 \"/>\n",
       "<g style=\"fill:rgb(0%,0%,0%);fill-opacity:1;\">\n",
       "  <use xlink:href=\"#glyph0-8\" x=\"66.058594\" y=\"470.878906\"/>\n",
       "  <use xlink:href=\"#glyph0-9\" x=\"72.732422\" y=\"470.878906\"/>\n",
       "  <use xlink:href=\"#glyph0-10\" x=\"76.066406\" y=\"470.878906\"/>\n",
       "</g>\n",
       "<g style=\"fill:rgb(0%,0%,0%);fill-opacity:1;\">\n",
       "  <use xlink:href=\"#glyph0-10\" x=\"142.859375\" y=\"470.878906\"/>\n",
       "  <use xlink:href=\"#glyph0-9\" x=\"149.533203\" y=\"470.878906\"/>\n",
       "  <use xlink:href=\"#glyph0-11\" x=\"152.867188\" y=\"470.878906\"/>\n",
       "</g>\n",
       "<g style=\"fill:rgb(0%,0%,0%);fill-opacity:1;\">\n",
       "  <use xlink:href=\"#glyph0-10\" x=\"219.660156\" y=\"470.878906\"/>\n",
       "  <use xlink:href=\"#glyph0-9\" x=\"226.333984\" y=\"470.878906\"/>\n",
       "  <use xlink:href=\"#glyph0-12\" x=\"229.667969\" y=\"470.878906\"/>\n",
       "</g>\n",
       "<g style=\"fill:rgb(0%,0%,0%);fill-opacity:1;\">\n",
       "  <use xlink:href=\"#glyph0-10\" x=\"296.460938\" y=\"470.878906\"/>\n",
       "  <use xlink:href=\"#glyph0-9\" x=\"303.134766\" y=\"470.878906\"/>\n",
       "  <use xlink:href=\"#glyph0-13\" x=\"306.46875\" y=\"470.878906\"/>\n",
       "</g>\n",
       "<g style=\"fill:rgb(0%,0%,0%);fill-opacity:1;\">\n",
       "  <use xlink:href=\"#glyph0-10\" x=\"373.261719\" y=\"470.878906\"/>\n",
       "  <use xlink:href=\"#glyph0-9\" x=\"379.935547\" y=\"470.878906\"/>\n",
       "  <use xlink:href=\"#glyph0-14\" x=\"383.269531\" y=\"470.878906\"/>\n",
       "</g>\n",
       "<g style=\"fill:rgb(0%,0%,0%);fill-opacity:1;\">\n",
       "  <use xlink:href=\"#glyph0-10\" x=\"450.058594\" y=\"470.878906\"/>\n",
       "  <use xlink:href=\"#glyph0-9\" x=\"456.732422\" y=\"470.878906\"/>\n",
       "  <use xlink:href=\"#glyph0-10\" x=\"460.066406\" y=\"470.878906\"/>\n",
       "</g>\n",
       "<g clip-path=\"url(#clip1)\" clip-rule=\"nonzero\">\n",
       "<path style=\"fill:none;stroke-width:0.75;stroke-linecap:round;stroke-linejoin:round;stroke:rgb(66.27451%,66.27451%,66.27451%);stroke-opacity:1;stroke-miterlimit:10;\" d=\"M 59.039063 444.960938 L 473.761719 30.238281 \"/>\n",
       "<path style=\"fill:none;stroke-width:1.5;stroke-linecap:round;stroke-linejoin:round;stroke:rgb(0%,0%,0%);stroke-opacity:1;stroke-miterlimit:10;\" d=\"M 458.398438 45.601563 L 170.398438 60.960938 L 118.035156 99.359375 L 91.855469 176.160156 L 74.398438 429.601563 \"/>\n",
       "</g>\n",
       "</g>\n",
       "</svg>\n"
      ],
      "text/plain": [
       "plot without title"
      ]
     },
     "metadata": {
      "image/svg+xml": {
       "isolated": true
      }
     },
     "output_type": "display_data"
    }
   ],
   "source": [
    "#ROC CURVE AND AUC\n",
    "predsProb <- t(knn.probability(train[[1]], test,y, kdistM, k=3))\n",
    "outcome<- predsProb[,1]\n",
    "classes <- factor(unlist( y[test]),labels=c(\"No\", \"Yes\"))\n",
    "rocobj <- roc(classes, outcome,levels=c(\"No\", \"Yes\"))\n",
    "plot(rocobj)"
   ]
  },
  {
   "cell_type": "code",
   "execution_count": null,
   "metadata": {
    "collapsed": true
   },
   "outputs": [],
   "source": []
  }
 ],
 "metadata": {
  "kernelspec": {
   "display_name": "R",
   "language": "R",
   "name": "ir"
  },
  "language_info": {
   "codemirror_mode": "r",
   "file_extension": ".r",
   "mimetype": "text/x-r-source",
   "name": "R",
   "pygments_lexer": "r",
   "version": "3.2.5"
  }
 },
 "nbformat": 4,
 "nbformat_minor": 0
}
