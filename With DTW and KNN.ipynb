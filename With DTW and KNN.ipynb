{
 "cells": [
  {
   "cell_type": "code",
   "execution_count": 63,
   "metadata": {
    "collapsed": false
   },
   "outputs": [
    {
     "name": "stdout",
     "output_type": "stream",
     "text": [
      "[1] \"Target\"\n"
     ]
    },
    {
     "data": {
      "text/html": [
       "<ol class=list-inline>\n",
       "\t<li>1</li>\n",
       "\t<li>1</li>\n",
       "\t<li>1</li>\n",
       "\t<li>1</li>\n",
       "\t<li>1</li>\n",
       "\t<li>1</li>\n",
       "</ol>\n"
      ],
      "text/latex": [
       "\\begin{enumerate*}\n",
       "\\item 1\n",
       "\\item 1\n",
       "\\item 1\n",
       "\\item 1\n",
       "\\item 1\n",
       "\\item 1\n",
       "\\end{enumerate*}\n"
      ],
      "text/markdown": [
       "1. 1\n",
       "2. 1\n",
       "3. 1\n",
       "4. 1\n",
       "5. 1\n",
       "6. 1\n",
       "\n",
       "\n"
      ],
      "text/plain": [
       "[1] 1 1 1 1 1 1"
      ]
     },
     "execution_count": 63,
     "metadata": {},
     "output_type": "execute_result"
    }
   ],
   "source": [
    "library(dtw)\n",
    "library(KODAMA)\n",
    "library(caret)\n",
    "\n",
    "print(\"Target\")\n",
    "groups <- read.csv(file=\"./MovementAAL/groups/MovementAAL_DatasetGroup.csv\",head=TRUE,sep=\",\")\n",
    "targetAll <- read.csv(file=\"./MovementAAL/dataset/MovementAAL_target.csv\",head=TRUE,sep=\",\")\n",
    "head(targetAll)\n",
    "\n",
    "#Group 1\n",
    "allDataGroup1<-list()\n",
    "allDataGroup1Target<-list()\n",
    "groups1 = groups[groups$dataset_ID==1, ]\n",
    "\n",
    "index<-1\n",
    "for (id in groups1$X.sequence_ID){\n",
    "    caminho <-paste(\"./MovementAAL/dataset/MovementAAL_RSS_\",id,\".csv\",sep=\"\")\n",
    "    allDataGroup1[[index]]<-read.csv(file=caminho,head=TRUE,sep=\",\")\n",
    "    allDataGroup1Target[index]<-targetAll[[2]][id]\n",
    "    index<-index+1\n",
    "}\n",
    "\n",
    "kdist <- dist(allDataGroup1, method=\"DTW\",diag = TRUE,upper = TRUE)\n",
    "kdistM<- as.matrix(kdist)"
   ]
  },
  {
   "cell_type": "code",
   "execution_count": 75,
   "metadata": {
    "collapsed": false
   },
   "outputs": [
    {
     "data": {
      "text/html": [
       "\"integer\""
      ],
      "text/latex": [
       "\"integer\""
      ],
      "text/markdown": [
       "\"integer\""
      ],
      "text/plain": [
       "[1] \"integer\""
      ]
     },
     "execution_count": 75,
     "metadata": {},
     "output_type": "execute_result"
    }
   ],
   "source": [
    "target <- unlist(allDataGroup1Target)\n",
    "allDataGroup1TargetFrame = as.data.frame(target)\n",
    "class(allDataGroup1TargetFrame$target)\n",
    "train <- createDataPartition(allDataGroup1TargetFrame$target, p = .7, list = TRUE)$Resample1\n",
    "test  <- (1:nrow(allDataGroup1TargetFrame))[-train]\n",
    "y <- allDataGroup1TargetFrame$target"
   ]
  },
  {
   "cell_type": "code",
   "execution_count": 65,
   "metadata": {
    "collapsed": false
   },
   "outputs": [
    {
     "data": {
      "text/plain": [
       "     \n",
       "preds -1  1\n",
       "   -1 15  1\n",
       "   1   0 14"
      ]
     },
     "execution_count": 65,
     "metadata": {},
     "output_type": "execute_result"
    }
   ],
   "source": [
    "preds <- knn.predict(train, test,y, kdistM, k=3,agg.meth=\"majority\") \n",
    "table(preds,y[test])"
   ]
  },
  {
   "cell_type": "code",
   "execution_count": 66,
   "metadata": {
    "collapsed": false
   },
   "outputs": [
    {
     "data": {
      "text/html": [
       "<table>\n",
       "<thead><tr><th></th><th scope=col>-1</th><th scope=col>1</th></tr></thead>\n",
       "<tbody>\n",
       "\t<tr><th scope=row>1</th><td>0</td><td>1</td></tr>\n",
       "\t<tr><th scope=row>5</th><td>0</td><td>1</td></tr>\n",
       "\t<tr><th scope=row>6</th><td>0</td><td>1</td></tr>\n",
       "\t<tr><th scope=row>8</th><td>0</td><td>1</td></tr>\n",
       "\t<tr><th scope=row>11</th><td>0</td><td>1</td></tr>\n",
       "\t<tr><th scope=row>12</th><td>0</td><td>1</td></tr>\n",
       "\t<tr><th scope=row>14</th><td>0</td><td>1</td></tr>\n",
       "\t<tr><th scope=row>16</th><td>0</td><td>1</td></tr>\n",
       "\t<tr><th scope=row>18</th><td>0</td><td>1</td></tr>\n",
       "\t<tr><th scope=row>19</th><td>0</td><td>1</td></tr>\n",
       "\t<tr><th scope=row>27</th><td>1</td><td>0</td></tr>\n",
       "\t<tr><th scope=row>29</th><td>1</td><td>0</td></tr>\n",
       "\t<tr><th scope=row>34</th><td>1</td><td>0</td></tr>\n",
       "\t<tr><th scope=row>35</th><td>1</td><td>0</td></tr>\n",
       "\t<tr><th scope=row>40</th><td>1</td><td>0</td></tr>\n",
       "\t<tr><th scope=row>43</th><td>1</td><td>0</td></tr>\n",
       "\t<tr><th scope=row>47</th><td>1</td><td>0</td></tr>\n",
       "\t<tr><th scope=row>48</th><td>1</td><td>0</td></tr>\n",
       "\t<tr><th scope=row>49</th><td>1</td><td>0</td></tr>\n",
       "\t<tr><th scope=row>57</th><td>1</td><td>0</td></tr>\n",
       "\t<tr><th scope=row>59</th><td>1</td><td>0</td></tr>\n",
       "\t<tr><th scope=row>71</th><td>0.6666667</td><td>0.3333333</td></tr>\n",
       "\t<tr><th scope=row>72</th><td>0.3333333</td><td>0.6666667</td></tr>\n",
       "\t<tr><th scope=row>75</th><td>0</td><td>1</td></tr>\n",
       "\t<tr><th scope=row>84</th><td>0</td><td>1</td></tr>\n",
       "\t<tr><th scope=row>85</th><td>0</td><td>1</td></tr>\n",
       "\t<tr><th scope=row>94</th><td>1</td><td>0</td></tr>\n",
       "\t<tr><th scope=row>101</th><td>1</td><td>0</td></tr>\n",
       "\t<tr><th scope=row>103</th><td>1</td><td>0</td></tr>\n",
       "\t<tr><th scope=row>104</th><td>1</td><td>0</td></tr>\n",
       "</tbody>\n",
       "</table>\n"
      ],
      "text/latex": [
       "\\begin{tabular}{r|ll}\n",
       "  & -1 & 1\\\\\n",
       "\\hline\n",
       "\t1 & 0 & 1\\\\\n",
       "\t5 & 0 & 1\\\\\n",
       "\t6 & 0 & 1\\\\\n",
       "\t8 & 0 & 1\\\\\n",
       "\t11 & 0 & 1\\\\\n",
       "\t12 & 0 & 1\\\\\n",
       "\t14 & 0 & 1\\\\\n",
       "\t16 & 0 & 1\\\\\n",
       "\t18 & 0 & 1\\\\\n",
       "\t19 & 0 & 1\\\\\n",
       "\t27 & 1 & 0\\\\\n",
       "\t29 & 1 & 0\\\\\n",
       "\t34 & 1 & 0\\\\\n",
       "\t35 & 1 & 0\\\\\n",
       "\t40 & 1 & 0\\\\\n",
       "\t43 & 1 & 0\\\\\n",
       "\t47 & 1 & 0\\\\\n",
       "\t48 & 1 & 0\\\\\n",
       "\t49 & 1 & 0\\\\\n",
       "\t57 & 1 & 0\\\\\n",
       "\t59 & 1 & 0\\\\\n",
       "\t71 & 0.6666667 & 0.3333333\\\\\n",
       "\t72 & 0.3333333 & 0.6666667\\\\\n",
       "\t75 & 0 & 1\\\\\n",
       "\t84 & 0 & 1\\\\\n",
       "\t85 & 0 & 1\\\\\n",
       "\t94 & 1 & 0\\\\\n",
       "\t101 & 1 & 0\\\\\n",
       "\t103 & 1 & 0\\\\\n",
       "\t104 & 1 & 0\\\\\n",
       "\\end{tabular}\n"
      ],
      "text/markdown": [
       "1. 0\n",
       "2. 0\n",
       "3. 0\n",
       "4. 0\n",
       "5. 0\n",
       "6. 0\n",
       "7. 0\n",
       "8. 0\n",
       "9. 0\n",
       "10. 0\n",
       "11. 1\n",
       "12. 1\n",
       "13. 1\n",
       "14. 1\n",
       "15. 1\n",
       "16. 1\n",
       "17. 1\n",
       "18. 1\n",
       "19. 1\n",
       "20. 1\n",
       "21. 1\n",
       "22. 0.666666666666667\n",
       "23. 0.333333333333333\n",
       "24. 0\n",
       "25. 0\n",
       "26. 0\n",
       "27. 1\n",
       "28. 1\n",
       "29. 1\n",
       "30. 1\n",
       "31. 1\n",
       "32. 1\n",
       "33. 1\n",
       "34. 1\n",
       "35. 1\n",
       "36. 1\n",
       "37. 1\n",
       "38. 1\n",
       "39. 1\n",
       "40. 1\n",
       "41. 0\n",
       "42. 0\n",
       "43. 0\n",
       "44. 0\n",
       "45. 0\n",
       "46. 0\n",
       "47. 0\n",
       "48. 0\n",
       "49. 0\n",
       "50. 0\n",
       "51. 0\n",
       "52. 0.333333333333333\n",
       "53. 0.666666666666667\n",
       "54. 1\n",
       "55. 1\n",
       "56. 1\n",
       "57. 0\n",
       "58. 0\n",
       "59. 0\n",
       "60. 0\n",
       "\n",
       "\n"
      ],
      "text/plain": [
       "           -1         1\n",
       "1   0.0000000 1.0000000\n",
       "5   0.0000000 1.0000000\n",
       "6   0.0000000 1.0000000\n",
       "8   0.0000000 1.0000000\n",
       "11  0.0000000 1.0000000\n",
       "12  0.0000000 1.0000000\n",
       "14  0.0000000 1.0000000\n",
       "16  0.0000000 1.0000000\n",
       "18  0.0000000 1.0000000\n",
       "19  0.0000000 1.0000000\n",
       "27  1.0000000 0.0000000\n",
       "29  1.0000000 0.0000000\n",
       "34  1.0000000 0.0000000\n",
       "35  1.0000000 0.0000000\n",
       "40  1.0000000 0.0000000\n",
       "43  1.0000000 0.0000000\n",
       "47  1.0000000 0.0000000\n",
       "48  1.0000000 0.0000000\n",
       "49  1.0000000 0.0000000\n",
       "57  1.0000000 0.0000000\n",
       "59  1.0000000 0.0000000\n",
       "71  0.6666667 0.3333333\n",
       "72  0.3333333 0.6666667\n",
       "75  0.0000000 1.0000000\n",
       "84  0.0000000 1.0000000\n",
       "85  0.0000000 1.0000000\n",
       "94  1.0000000 0.0000000\n",
       "101 1.0000000 0.0000000\n",
       "103 1.0000000 0.0000000\n",
       "104 1.0000000 0.0000000"
      ]
     },
     "execution_count": 66,
     "metadata": {},
     "output_type": "execute_result"
    }
   ],
   "source": [
    "t(knn.probability(train, test,y, kdistM, k=3))"
   ]
  },
  {
   "cell_type": "code",
   "execution_count": 67,
   "metadata": {
    "collapsed": true
   },
   "outputs": [],
   "source": [
    "#Group 2\n",
    "\n",
    "\n",
    "allDataGroup2<-list()\n",
    "groups2 = groups[groups$dataset_ID==2, ]\n",
    "allDataGroup2Target<-list()\n",
    "index<-1\n",
    "for (id in groups2$X.sequence_ID){\n",
    "    caminho <-paste(\"./MovementAAL/dataset/MovementAAL_RSS_\",id,\".csv\",sep=\"\")\n",
    "    allDataGroup2[[index]]<-read.csv(file=caminho,head=TRUE,sep=\",\")\n",
    "    allDataGroup2Target[index]<-targetAll[[2]][id]\n",
    "    index<-index+1\n",
    "}\n",
    "\n",
    "\n",
    "kdist <- dist(allDataGroup2, method=\"DTW\",diag = TRUE,upper = TRUE)\n",
    "kdistM<- as.matrix(kdist)"
   ]
  },
  {
   "cell_type": "code",
   "execution_count": 68,
   "metadata": {
    "collapsed": false
   },
   "outputs": [],
   "source": [
    "target <- unlist(allDataGroup2Target)\n",
    "allDataGroup2TargetFrame = as.data.frame(target)\n",
    "train <- createDataPartition(allDataGroup2TargetFrame$target, p = .7, list = TRUE)$Resample1\n",
    "test  <- (1:nrow(allDataGroup2TargetFrame))[-train]\n",
    "y <- allDataGroup2TargetFrame$target"
   ]
  },
  {
   "cell_type": "code",
   "execution_count": 69,
   "metadata": {
    "collapsed": false
   },
   "outputs": [
    {
     "data": {
      "text/plain": [
       "     \n",
       "preds -1  1\n",
       "   -1 16  3\n",
       "   1   0 12"
      ]
     },
     "execution_count": 69,
     "metadata": {},
     "output_type": "execute_result"
    }
   ],
   "source": [
    "preds <- knn.predict(train, test,y, kdistM, k=3,agg.meth=\"majority\") \n",
    "table(preds,y[test])"
   ]
  },
  {
   "cell_type": "code",
   "execution_count": 70,
   "metadata": {
    "collapsed": false
   },
   "outputs": [
    {
     "data": {
      "text/html": [
       "<table>\n",
       "<thead><tr><th></th><th scope=col>-1</th><th scope=col>1</th></tr></thead>\n",
       "<tbody>\n",
       "\t<tr><th scope=row>3</th><td>0.3333333</td><td>0.6666667</td></tr>\n",
       "\t<tr><th scope=row>9</th><td>0</td><td>1</td></tr>\n",
       "\t<tr><th scope=row>10</th><td>1</td><td>0</td></tr>\n",
       "\t<tr><th scope=row>11</th><td>1</td><td>0</td></tr>\n",
       "\t<tr><th scope=row>13</th><td>1</td><td>0</td></tr>\n",
       "\t<tr><th scope=row>17</th><td>0</td><td>1</td></tr>\n",
       "\t<tr><th scope=row>19</th><td>0</td><td>1</td></tr>\n",
       "\t<tr><th scope=row>20</th><td>0.3333333</td><td>0.6666667</td></tr>\n",
       "\t<tr><th scope=row>21</th><td>0</td><td>1</td></tr>\n",
       "\t<tr><th scope=row>24</th><td>0.3333333</td><td>0.6666667</td></tr>\n",
       "\t<tr><th scope=row>29</th><td>1</td><td>0</td></tr>\n",
       "\t<tr><th scope=row>30</th><td>1</td><td>0</td></tr>\n",
       "\t<tr><th scope=row>37</th><td>1</td><td>0</td></tr>\n",
       "\t<tr><th scope=row>46</th><td>1</td><td>0</td></tr>\n",
       "\t<tr><th scope=row>48</th><td>1</td><td>0</td></tr>\n",
       "\t<tr><th scope=row>49</th><td>1</td><td>0</td></tr>\n",
       "\t<tr><th scope=row>52</th><td>1</td><td>0</td></tr>\n",
       "\t<tr><th scope=row>54</th><td>1</td><td>0</td></tr>\n",
       "\t<tr><th scope=row>60</th><td>1</td><td>0</td></tr>\n",
       "\t<tr><th scope=row>63</th><td>1</td><td>0</td></tr>\n",
       "\t<tr><th scope=row>64</th><td>1</td><td>0</td></tr>\n",
       "\t<tr><th scope=row>68</th><td>0</td><td>1</td></tr>\n",
       "\t<tr><th scope=row>69</th><td>0</td><td>1</td></tr>\n",
       "\t<tr><th scope=row>77</th><td>0</td><td>1</td></tr>\n",
       "\t<tr><th scope=row>81</th><td>0</td><td>1</td></tr>\n",
       "\t<tr><th scope=row>92</th><td>0</td><td>1</td></tr>\n",
       "\t<tr><th scope=row>95</th><td>1</td><td>0</td></tr>\n",
       "\t<tr><th scope=row>97</th><td>1</td><td>0</td></tr>\n",
       "\t<tr><th scope=row>100</th><td>1</td><td>0</td></tr>\n",
       "\t<tr><th scope=row>102</th><td>1</td><td>0</td></tr>\n",
       "\t<tr><th scope=row>106</th><td>1</td><td>0</td></tr>\n",
       "</tbody>\n",
       "</table>\n"
      ],
      "text/latex": [
       "\\begin{tabular}{r|ll}\n",
       "  & -1 & 1\\\\\n",
       "\\hline\n",
       "\t3 & 0.3333333 & 0.6666667\\\\\n",
       "\t9 & 0 & 1\\\\\n",
       "\t10 & 1 & 0\\\\\n",
       "\t11 & 1 & 0\\\\\n",
       "\t13 & 1 & 0\\\\\n",
       "\t17 & 0 & 1\\\\\n",
       "\t19 & 0 & 1\\\\\n",
       "\t20 & 0.3333333 & 0.6666667\\\\\n",
       "\t21 & 0 & 1\\\\\n",
       "\t24 & 0.3333333 & 0.6666667\\\\\n",
       "\t29 & 1 & 0\\\\\n",
       "\t30 & 1 & 0\\\\\n",
       "\t37 & 1 & 0\\\\\n",
       "\t46 & 1 & 0\\\\\n",
       "\t48 & 1 & 0\\\\\n",
       "\t49 & 1 & 0\\\\\n",
       "\t52 & 1 & 0\\\\\n",
       "\t54 & 1 & 0\\\\\n",
       "\t60 & 1 & 0\\\\\n",
       "\t63 & 1 & 0\\\\\n",
       "\t64 & 1 & 0\\\\\n",
       "\t68 & 0 & 1\\\\\n",
       "\t69 & 0 & 1\\\\\n",
       "\t77 & 0 & 1\\\\\n",
       "\t81 & 0 & 1\\\\\n",
       "\t92 & 0 & 1\\\\\n",
       "\t95 & 1 & 0\\\\\n",
       "\t97 & 1 & 0\\\\\n",
       "\t100 & 1 & 0\\\\\n",
       "\t102 & 1 & 0\\\\\n",
       "\t106 & 1 & 0\\\\\n",
       "\\end{tabular}\n"
      ],
      "text/markdown": [
       "1. 0.333333333333333\n",
       "2. 0\n",
       "3. 1\n",
       "4. 1\n",
       "5. 1\n",
       "6. 0\n",
       "7. 0\n",
       "8. 0.333333333333333\n",
       "9. 0\n",
       "10. 0.333333333333333\n",
       "11. 1\n",
       "12. 1\n",
       "13. 1\n",
       "14. 1\n",
       "15. 1\n",
       "16. 1\n",
       "17. 1\n",
       "18. 1\n",
       "19. 1\n",
       "20. 1\n",
       "21. 1\n",
       "22. 0\n",
       "23. 0\n",
       "24. 0\n",
       "25. 0\n",
       "26. 0\n",
       "27. 1\n",
       "28. 1\n",
       "29. 1\n",
       "30. 1\n",
       "31. 1\n",
       "32. 0.666666666666667\n",
       "33. 1\n",
       "34. 0\n",
       "35. 0\n",
       "36. 0\n",
       "37. 1\n",
       "38. 1\n",
       "39. 0.666666666666667\n",
       "40. 1\n",
       "41. 0.666666666666667\n",
       "42. 0\n",
       "43. 0\n",
       "44. 0\n",
       "45. 0\n",
       "46. 0\n",
       "47. 0\n",
       "48. 0\n",
       "49. 0\n",
       "50. 0\n",
       "51. 0\n",
       "52. 0\n",
       "53. 1\n",
       "54. 1\n",
       "55. 1\n",
       "56. 1\n",
       "57. 1\n",
       "58. 0\n",
       "59. 0\n",
       "60. 0\n",
       "61. 0\n",
       "62. 0\n",
       "\n",
       "\n"
      ],
      "text/plain": [
       "           -1         1\n",
       "3   0.3333333 0.6666667\n",
       "9   0.0000000 1.0000000\n",
       "10  1.0000000 0.0000000\n",
       "11  1.0000000 0.0000000\n",
       "13  1.0000000 0.0000000\n",
       "17  0.0000000 1.0000000\n",
       "19  0.0000000 1.0000000\n",
       "20  0.3333333 0.6666667\n",
       "21  0.0000000 1.0000000\n",
       "24  0.3333333 0.6666667\n",
       "29  1.0000000 0.0000000\n",
       "30  1.0000000 0.0000000\n",
       "37  1.0000000 0.0000000\n",
       "46  1.0000000 0.0000000\n",
       "48  1.0000000 0.0000000\n",
       "49  1.0000000 0.0000000\n",
       "52  1.0000000 0.0000000\n",
       "54  1.0000000 0.0000000\n",
       "60  1.0000000 0.0000000\n",
       "63  1.0000000 0.0000000\n",
       "64  1.0000000 0.0000000\n",
       "68  0.0000000 1.0000000\n",
       "69  0.0000000 1.0000000\n",
       "77  0.0000000 1.0000000\n",
       "81  0.0000000 1.0000000\n",
       "92  0.0000000 1.0000000\n",
       "95  1.0000000 0.0000000\n",
       "97  1.0000000 0.0000000\n",
       "100 1.0000000 0.0000000\n",
       "102 1.0000000 0.0000000\n",
       "106 1.0000000 0.0000000"
      ]
     },
     "execution_count": 70,
     "metadata": {},
     "output_type": "execute_result"
    }
   ],
   "source": [
    "t(knn.probability(train, test,y, kdistM, k=3))"
   ]
  },
  {
   "cell_type": "code",
   "execution_count": 71,
   "metadata": {
    "collapsed": false
   },
   "outputs": [],
   "source": [
    "#Group 3\n",
    "\n",
    "\n",
    "allDataGroup3<-list()\n",
    "groups3 = groups[groups$dataset_ID==3, ]\n",
    "allDataGroup3Target<-list()\n",
    "index<-1\n",
    "for (id in groups3$X.sequence_ID){\n",
    "    caminho <-paste(\"./MovementAAL/dataset/MovementAAL_RSS_\",id,\".csv\",sep=\"\")\n",
    "    allDataGroup3[[index]]<-read.csv(file=caminho,head=TRUE,sep=\",\")\n",
    "    allDataGroup3Target[index]<-targetAll[[2]][id]\n",
    "    index<-index+1\n",
    "}\n",
    "\n",
    "\n",
    "kdist <- dist(allDataGroup3, method=\"DTW\",diag = TRUE,upper = TRUE)\n",
    "kdistM<- as.matrix(kdist)"
   ]
  },
  {
   "cell_type": "code",
   "execution_count": 72,
   "metadata": {
    "collapsed": true
   },
   "outputs": [],
   "source": [
    "target <- unlist(allDataGroup3Target)\n",
    "allDataGroup3TargetFrame = as.data.frame(target)\n",
    "train <- createDataPartition(allDataGroup3TargetFrame$target, p = .7, list = TRUE)$Resample1\n",
    "test  <- (1:nrow(allDataGroup3TargetFrame))[-train]\n",
    "y <- allDataGroup3TargetFrame$target"
   ]
  },
  {
   "cell_type": "code",
   "execution_count": 73,
   "metadata": {
    "collapsed": false
   },
   "outputs": [
    {
     "data": {
      "text/plain": [
       "     \n",
       "preds -1  1\n",
       "   -1 14  4\n",
       "   1   0 13"
      ]
     },
     "execution_count": 73,
     "metadata": {},
     "output_type": "execute_result"
    }
   ],
   "source": [
    "preds <- knn.predict(train, test,y, kdistM, k=3,agg.meth=\"majority\") \n",
    "table(preds,y[test])"
   ]
  },
  {
   "cell_type": "code",
   "execution_count": 74,
   "metadata": {
    "collapsed": false
   },
   "outputs": [
    {
     "data": {
      "text/html": [
       "<table>\n",
       "<thead><tr><th></th><th scope=col>-1</th><th scope=col>1</th></tr></thead>\n",
       "<tbody>\n",
       "\t<tr><th scope=row>3</th><td>0.6666667</td><td>0.3333333</td></tr>\n",
       "\t<tr><th scope=row>7</th><td>0</td><td>1</td></tr>\n",
       "\t<tr><th scope=row>10</th><td>0.3333333</td><td>0.6666667</td></tr>\n",
       "\t<tr><th scope=row>12</th><td>1</td><td>0</td></tr>\n",
       "\t<tr><th scope=row>17</th><td>0.3333333</td><td>0.6666667</td></tr>\n",
       "\t<tr><th scope=row>18</th><td>0.6666667</td><td>0.3333333</td></tr>\n",
       "\t<tr><th scope=row>21</th><td>0.3333333</td><td>0.6666667</td></tr>\n",
       "\t<tr><th scope=row>23</th><td>1</td><td>0</td></tr>\n",
       "\t<tr><th scope=row>29</th><td>1</td><td>0</td></tr>\n",
       "\t<tr><th scope=row>30</th><td>1</td><td>0</td></tr>\n",
       "\t<tr><th scope=row>33</th><td>1</td><td>0</td></tr>\n",
       "\t<tr><th scope=row>35</th><td>1</td><td>0</td></tr>\n",
       "\t<tr><th scope=row>44</th><td>1</td><td>0</td></tr>\n",
       "\t<tr><th scope=row>49</th><td>1</td><td>0</td></tr>\n",
       "\t<tr><th scope=row>53</th><td>1</td><td>0</td></tr>\n",
       "\t<tr><th scope=row>57</th><td>1</td><td>0</td></tr>\n",
       "\t<tr><th scope=row>64</th><td>1</td><td>0</td></tr>\n",
       "\t<tr><th scope=row>65</th><td>0</td><td>1</td></tr>\n",
       "\t<tr><th scope=row>67</th><td>0</td><td>1</td></tr>\n",
       "\t<tr><th scope=row>69</th><td>0</td><td>1</td></tr>\n",
       "\t<tr><th scope=row>72</th><td>0.3333333</td><td>0.6666667</td></tr>\n",
       "\t<tr><th scope=row>73</th><td>0</td><td>1</td></tr>\n",
       "\t<tr><th scope=row>78</th><td>0</td><td>1</td></tr>\n",
       "\t<tr><th scope=row>82</th><td>0</td><td>1</td></tr>\n",
       "\t<tr><th scope=row>83</th><td>0</td><td>1</td></tr>\n",
       "\t<tr><th scope=row>84</th><td>0</td><td>1</td></tr>\n",
       "\t<tr><th scope=row>93</th><td>1</td><td>0</td></tr>\n",
       "\t<tr><th scope=row>98</th><td>1</td><td>0</td></tr>\n",
       "\t<tr><th scope=row>101</th><td>1</td><td>0</td></tr>\n",
       "\t<tr><th scope=row>102</th><td>1</td><td>0</td></tr>\n",
       "\t<tr><th scope=row>103</th><td>1</td><td>0</td></tr>\n",
       "</tbody>\n",
       "</table>\n"
      ],
      "text/latex": [
       "\\begin{tabular}{r|ll}\n",
       "  & -1 & 1\\\\\n",
       "\\hline\n",
       "\t3 & 0.6666667 & 0.3333333\\\\\n",
       "\t7 & 0 & 1\\\\\n",
       "\t10 & 0.3333333 & 0.6666667\\\\\n",
       "\t12 & 1 & 0\\\\\n",
       "\t17 & 0.3333333 & 0.6666667\\\\\n",
       "\t18 & 0.6666667 & 0.3333333\\\\\n",
       "\t21 & 0.3333333 & 0.6666667\\\\\n",
       "\t23 & 1 & 0\\\\\n",
       "\t29 & 1 & 0\\\\\n",
       "\t30 & 1 & 0\\\\\n",
       "\t33 & 1 & 0\\\\\n",
       "\t35 & 1 & 0\\\\\n",
       "\t44 & 1 & 0\\\\\n",
       "\t49 & 1 & 0\\\\\n",
       "\t53 & 1 & 0\\\\\n",
       "\t57 & 1 & 0\\\\\n",
       "\t64 & 1 & 0\\\\\n",
       "\t65 & 0 & 1\\\\\n",
       "\t67 & 0 & 1\\\\\n",
       "\t69 & 0 & 1\\\\\n",
       "\t72 & 0.3333333 & 0.6666667\\\\\n",
       "\t73 & 0 & 1\\\\\n",
       "\t78 & 0 & 1\\\\\n",
       "\t82 & 0 & 1\\\\\n",
       "\t83 & 0 & 1\\\\\n",
       "\t84 & 0 & 1\\\\\n",
       "\t93 & 1 & 0\\\\\n",
       "\t98 & 1 & 0\\\\\n",
       "\t101 & 1 & 0\\\\\n",
       "\t102 & 1 & 0\\\\\n",
       "\t103 & 1 & 0\\\\\n",
       "\\end{tabular}\n"
      ],
      "text/markdown": [
       "1. 0.666666666666667\n",
       "2. 0\n",
       "3. 0.333333333333333\n",
       "4. 1\n",
       "5. 0.333333333333333\n",
       "6. 0.666666666666667\n",
       "7. 0.333333333333333\n",
       "8. 1\n",
       "9. 1\n",
       "10. 1\n",
       "11. 1\n",
       "12. 1\n",
       "13. 1\n",
       "14. 1\n",
       "15. 1\n",
       "16. 1\n",
       "17. 1\n",
       "18. 0\n",
       "19. 0\n",
       "20. 0\n",
       "21. 0.333333333333333\n",
       "22. 0\n",
       "23. 0\n",
       "24. 0\n",
       "25. 0\n",
       "26. 0\n",
       "27. 1\n",
       "28. 1\n",
       "29. 1\n",
       "30. 1\n",
       "31. 1\n",
       "32. 0.333333333333333\n",
       "33. 1\n",
       "34. 0.666666666666667\n",
       "35. 0\n",
       "36. 0.666666666666667\n",
       "37. 0.333333333333333\n",
       "38. 0.666666666666667\n",
       "39. 0\n",
       "40. 0\n",
       "41. 0\n",
       "42. 0\n",
       "43. 0\n",
       "44. 0\n",
       "45. 0\n",
       "46. 0\n",
       "47. 0\n",
       "48. 0\n",
       "49. 1\n",
       "50. 1\n",
       "51. 1\n",
       "52. 0.666666666666667\n",
       "53. 1\n",
       "54. 1\n",
       "55. 1\n",
       "56. 1\n",
       "57. 1\n",
       "58. 0\n",
       "59. 0\n",
       "60. 0\n",
       "61. 0\n",
       "62. 0\n",
       "\n",
       "\n"
      ],
      "text/plain": [
       "           -1         1\n",
       "3   0.6666667 0.3333333\n",
       "7   0.0000000 1.0000000\n",
       "10  0.3333333 0.6666667\n",
       "12  1.0000000 0.0000000\n",
       "17  0.3333333 0.6666667\n",
       "18  0.6666667 0.3333333\n",
       "21  0.3333333 0.6666667\n",
       "23  1.0000000 0.0000000\n",
       "29  1.0000000 0.0000000\n",
       "30  1.0000000 0.0000000\n",
       "33  1.0000000 0.0000000\n",
       "35  1.0000000 0.0000000\n",
       "44  1.0000000 0.0000000\n",
       "49  1.0000000 0.0000000\n",
       "53  1.0000000 0.0000000\n",
       "57  1.0000000 0.0000000\n",
       "64  1.0000000 0.0000000\n",
       "65  0.0000000 1.0000000\n",
       "67  0.0000000 1.0000000\n",
       "69  0.0000000 1.0000000\n",
       "72  0.3333333 0.6666667\n",
       "73  0.0000000 1.0000000\n",
       "78  0.0000000 1.0000000\n",
       "82  0.0000000 1.0000000\n",
       "83  0.0000000 1.0000000\n",
       "84  0.0000000 1.0000000\n",
       "93  1.0000000 0.0000000\n",
       "98  1.0000000 0.0000000\n",
       "101 1.0000000 0.0000000\n",
       "102 1.0000000 0.0000000\n",
       "103 1.0000000 0.0000000"
      ]
     },
     "execution_count": 74,
     "metadata": {},
     "output_type": "execute_result"
    }
   ],
   "source": [
    "t(knn.probability(train, test,y, kdistM, k=3))"
   ]
  },
  {
   "cell_type": "code",
   "execution_count": null,
   "metadata": {
    "collapsed": true
   },
   "outputs": [],
   "source": []
  }
 ],
 "metadata": {
  "kernelspec": {
   "display_name": "R",
   "language": "R",
   "name": "ir"
  },
  "language_info": {
   "codemirror_mode": "r",
   "file_extension": ".r",
   "mimetype": "text/x-r-source",
   "name": "R",
   "pygments_lexer": "r",
   "version": "3.2.5"
  }
 },
 "nbformat": 4,
 "nbformat_minor": 0
}
